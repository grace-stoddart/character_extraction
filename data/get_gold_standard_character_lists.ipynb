{
 "cells": [
  {
   "cell_type": "code",
   "execution_count": 8,
   "metadata": {},
   "outputs": [],
   "source": [
    "import json\n",
    "import numpy as np\n",
    "\n",
    "import sys\n",
    "sys.path.append('../src')\n",
    "\n",
    "from misc import open_dict, save_dict, get_file_names, get_raw_text, get_ref_expressions, get_raw_text_latin, open_list, save_list\n",
    "from eval_functions import get_all_variations_catchall, get_all_variations\n",
    "from coreference_resolution import get_canonical_character_name_from_list"
   ]
  },
  {
   "cell_type": "markdown",
   "metadata": {},
   "source": [
    "#### ProppLearner and CEN"
   ]
  },
  {
   "cell_type": "code",
   "execution_count": 26,
   "metadata": {},
   "outputs": [],
   "source": [
    "\n",
    "# CHAIN HEADS ONLY\n",
    "\n",
    "for dataset in ['CEN', 'ProppLearner']:\n",
    "\n",
    "    corefsLabeledJahanDir = dataset + '/coref_heads_labelled/'\n",
    "    charGoldListDir = dataset + '/char_list_gold/'\n",
    "    fileNames = get_file_names(corefsLabeledJahanDir, '.txt')\n",
    "\n",
    "    if dataset == 'CEN':\n",
    "        get_raw_text_func = get_raw_text_latin\n",
    "    else:\n",
    "        get_raw_text_func = get_raw_text\n",
    "\n",
    "    for fileName in fileNames:\n",
    "        chains = get_raw_text_func(corefsLabeledJahanDir + fileName + '.txt')\n",
    "        refExpressions, charLabels, _ = get_ref_expressions(chains)\n",
    "        characterList = []\n",
    "        for i, refs in enumerate(refExpressions):\n",
    "            if charLabels[i] == 1.:\n",
    "                characterList.append(refs[0])\n",
    "\n",
    "        save_list(characterList, charGoldListDir + fileName + '.json')"
   ]
  },
  {
   "cell_type": "code",
   "execution_count": 16,
   "metadata": {},
   "outputs": [],
   "source": [
    "# Most frequent referring expression\n",
    "\n",
    "for dataset in ['CEN', 'ProppLearner']:\n",
    "    \n",
    "    corefsLabeledJahanDir = dataset + '/coref_heads_labelled/'\n",
    "    charGoldListDir = dataset + '/char_list_gold_most_frequent/'\n",
    "    fileNames = get_file_names(corefsLabeledJahanDir, '.txt')\n",
    "\n",
    "    if dataset == 'CEN':\n",
    "        get_raw_text_func = get_raw_text_latin\n",
    "    else:\n",
    "        get_raw_text_func = get_raw_text\n",
    "\n",
    "    for fileName in fileNames:\n",
    "        chains = get_raw_text_func(corefsLabeledJahanDir + fileName + '.txt')\n",
    "        refExpressions, charLabels, _ = get_ref_expressions(chains)\n",
    "        canonNames = []\n",
    "        for i, refs in enumerate(refExpressions):\n",
    "            if charLabels[i] == 1.:\n",
    "                canonNames.append(get_canonical_character_name_from_list(refs))\n",
    "\n",
    "        save_list(characterList, charGoldListDir + fileName + '.json')"
   ]
  },
  {
   "cell_type": "code",
   "execution_count": 3,
   "metadata": {},
   "outputs": [],
   "source": [
    "# FULL CHAINS\n",
    "\n",
    "for dataset in ['CEN', 'ProppLearner']:\n",
    "\n",
    "    corefsLabeledJahanDir = dataset + '/coref_heads_labelled/'\n",
    "    charGoldListDir = dataset + '/char_list_gold_full_chains/'\n",
    "    fileNames = get_file_names(corefsLabeledJahanDir, '.txt')\n",
    "\n",
    "    if dataset == 'CEN':\n",
    "        get_raw_text_func = get_raw_text_latin\n",
    "    else:\n",
    "        get_raw_text_func = get_raw_text\n",
    "\n",
    "    for fileName in fileNames:\n",
    "        chains = get_raw_text_func(corefsLabeledJahanDir + fileName + '.txt')\n",
    "        refExpressions, charLabels, _ = get_ref_expressions(chains)\n",
    "        characterList = []\n",
    "        for i, refs in enumerate(refExpressions):\n",
    "            \n",
    "            if charLabels[i] == 1.:\n",
    "                characterList.append(refs)\n",
    "\n",
    "        save_list(characterList, charGoldListDir + fileName + '.json')"
   ]
  },
  {
   "cell_type": "markdown",
   "metadata": {},
   "source": [
    "#### LitBank"
   ]
  },
  {
   "cell_type": "code",
   "execution_count": 2,
   "metadata": {},
   "outputs": [],
   "source": [
    "characterDictCliffs = open_dict(\"LitBank/characters/litbank_character_lists_from_cliffs.p\")\n",
    "characterDictSpark = open_dict(\"LitBank/characters/litbank_character_lists_from_spark.p\")\n",
    "litBankDict = open_dict(\"LitBank/characters/litbank_ids_and_titles_dict.p\")\n",
    "\n",
    "corefsFile = 'LitBank/corefs_gold_new_format/'\n",
    "fileNames = get_file_names(corefsFile, '.p')\n",
    "\n",
    "charGoldListDir =  'LitBank/char_list_gold/'"
   ]
  },
  {
   "cell_type": "code",
   "execution_count": 3,
   "metadata": {},
   "outputs": [],
   "source": [
    "characters_all = {}\n",
    "\n",
    "for key in litBankDict:\n",
    "    if key in list(characterDictSpark.keys()) and key in list(characterDictCliffs.keys()):\n",
    "        values = [characterDictSpark[key], characterDictCliffs[key]]\n",
    "        sizes = [len(characterDictSpark[key]), len(characterDictSpark[key])]\n",
    "        \n",
    "        characters_all[key] = {\n",
    "                                'characterList':values[sizes.index(max(sizes))],\n",
    "                                'fileName':litBankDict[key]\n",
    "                                }\n",
    "\n",
    "    elif key in list(characterDictSpark.keys()):\n",
    "        characters_all[key] = {\n",
    "                                'characterList':characterDictSpark[key],\n",
    "                                'fileName':litBankDict[key]\n",
    "                                }\n",
    "\n",
    "    elif key in list(characterDictCliffs.keys()):\n",
    "        characters_all[key] = {\n",
    "                                'characterList':characterDictCliffs[key],\n",
    "                                'fileName':litBankDict[key]\n",
    "                                }"
   ]
  },
  {
   "cell_type": "code",
   "execution_count": 4,
   "metadata": {},
   "outputs": [],
   "source": [
    "for fileName in fileNames:\n",
    "    storyID = int(fileName.split('_')[0])\n",
    "\n",
    "    characters = characters_all[storyID]\n",
    "\n",
    "    characterList = characters['characterList']\n",
    "\n",
    "    save_list(characterList, charGoldListDir + fileName + '.json')\n"
   ]
  },
  {
   "cell_type": "code",
   "execution_count": 5,
   "metadata": {},
   "outputs": [],
   "source": [
    "alice = open_list('LitBank/char_list_gold/11_alices_adventures_in_wonderland.json')"
   ]
  },
  {
   "cell_type": "markdown",
   "metadata": {},
   "source": [
    "### Get rid of chracters who don't appear in first 2000 tokens"
   ]
  },
  {
   "cell_type": "code",
   "execution_count": 4,
   "metadata": {},
   "outputs": [],
   "source": [
    "charListsDir = 'LitBank/char_list_gold/'\n",
    "fileNames = get_file_names(charListsDir, '.json')"
   ]
  },
  {
   "cell_type": "code",
   "execution_count": 6,
   "metadata": {},
   "outputs": [
    {
     "name": "stdout",
     "output_type": "stream",
     "text": [
      "1400_great_expectations\n"
     ]
    }
   ],
   "source": [
    "for fileName in fileNames:\n",
    "\n",
    "    if fileName != '1400_great_expectations':\n",
    "        continue\n",
    "\n",
    "    print(fileName)\n",
    "    # get extended char list\n",
    "    charList = open_list('LitBank/char_list_gold_extended/' + fileName + '.json')\n",
    "\n",
    "    # # save extended char list in new folder\n",
    "    # save_list(charList, 'LitBank/char_list_gold_extended/' + fileName + '.json')\n",
    "\n",
    "    # get variations for each char in char list\n",
    "    variations = get_all_variations_catchall(charList)\n",
    "\n",
    "    # get shortened raw text\n",
    "    shortenedText = get_raw_text('LitBank/corefs_gold_brat/' + fileName + '_brat.txt')\n",
    "    shortenedText = shortenedText.replace('\\n','')\n",
    "\n",
    "    # if a char name variation is in shorteded text, add character to shortened list\n",
    "    charListShortened = []\n",
    "\n",
    "    for i, variations in enumerate(variations):\n",
    "        for variation in variations:\n",
    "            if variation.strip() in shortenedText:\n",
    "                charListShortened.append(charList[i])\n",
    "                break\n",
    "\n",
    "    # save shortened char list\n",
    "    save_list(charListShortened, 'LitBank/char_list_gold/' + fileName + '.json')\n",
    "\n"
   ]
  },
  {
   "cell_type": "code",
   "execution_count": 8,
   "metadata": {},
   "outputs": [
    {
     "data": {
      "text/plain": [
       "['Pip',\n",
       " 'Joe Gargery',\n",
       " 'Mrs. Joe Gargery',\n",
       " 'Biddy',\n",
       " 'Uncle Pumblechook',\n",
       " 'Dolge Orlick',\n",
       " 'Mr. Wopsle (Mr. Waldengarver)',\n",
       " 'Mr. Trabb',\n",
       " \"Mr. Trabb's Boy\",\n",
       " 'Mr. and Mrs. Hubble',\n",
       " \"Mr. Wopsle's Great-Aunt\",\n",
       " 'Squires',\n",
       " 'Philip Pirrip, late of this parish',\n",
       " 'Georgiana, wife of the above',\n",
       " 'Alexander, Bartholomew, Abraham, Tobias, Roger',\n",
       " 'Miss Havisham',\n",
       " 'Estella',\n",
       " 'Mrs. Camilla, Mr. Raymond (Cousin Raymond, Mr. Camilla), Sarah Pocket, Georgiana Pocket',\n",
       " 'Mr. Jaggers',\n",
       " 'John Wemmick',\n",
       " 'Molly',\n",
       " 'Aged Parent (Aged P.)',\n",
       " 'Miss Skiffins',\n",
       " 'Mr. Skiffins',\n",
       " 'Herbert Pocket (Pale Young Gentleman)',\n",
       " 'Clara Barley',\n",
       " 'Bill Barley (Gruffandgrim)',\n",
       " 'Mrs. Whimple',\n",
       " 'Startop',\n",
       " 'Bentley Drummle',\n",
       " 'Matthew Pocket',\n",
       " 'Mrs. Pocket (Belinda)',\n",
       " 'Sophia, Flopson, and Millers',\n",
       " 'Mrs. Brandley',\n",
       " 'Mrs. Coiler',\n",
       " 'The Avenger (Pepper)',\n",
       " 'Clarriker',\n",
       " 'the Jack',\n",
       " 'Mary Anne',\n",
       " 'Magwitch',\n",
       " 'Compeyson (Second Convict)',\n",
       " 'Arthur',\n",
       " 'Colonel',\n",
       " 'Sally',\n",
       " 'Stranger at the Three Jolly Bargemen']"
      ]
     },
     "execution_count": 8,
     "metadata": {},
     "output_type": "execute_result"
    }
   ],
   "source": [
    "charList"
   ]
  },
  {
   "cell_type": "code",
   "execution_count": 9,
   "metadata": {},
   "outputs": [
    {
     "data": {
      "text/plain": [
       "['Pip',\n",
       " 'Joe Gargery',\n",
       " 'Mrs. Joe Gargery',\n",
       " 'Philip Pirrip, late of this parish',\n",
       " 'Georgiana, wife of the above',\n",
       " 'Alexander, Bartholomew, Abraham, Tobias, Roger',\n",
       " 'Mrs. Camilla, Mr. Raymond (Cousin Raymond, Mr. Camilla), Sarah Pocket, Georgiana Pocket']"
      ]
     },
     "execution_count": 9,
     "metadata": {},
     "output_type": "execute_result"
    }
   ],
   "source": [
    "charListShortened"
   ]
  },
  {
   "cell_type": "code",
   "execution_count": null,
   "metadata": {},
   "outputs": [],
   "source": []
  }
 ],
 "metadata": {
  "kernelspec": {
   "display_name": "Python 3.9.7 ('MV00')",
   "language": "python",
   "name": "python3"
  },
  "language_info": {
   "codemirror_mode": {
    "name": "ipython",
    "version": 3
   },
   "file_extension": ".py",
   "mimetype": "text/x-python",
   "name": "python",
   "nbconvert_exporter": "python",
   "pygments_lexer": "ipython3",
   "version": "3.9.7"
  },
  "orig_nbformat": 4,
  "vscode": {
   "interpreter": {
    "hash": "624f414ac1c5eff7410d29e69a9fac3835d41a7cb677d4189ea56f6dcd743142"
   }
  }
 },
 "nbformat": 4,
 "nbformat_minor": 2
}
