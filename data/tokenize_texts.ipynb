{
 "cells": [
  {
   "cell_type": "code",
   "execution_count": null,
   "metadata": {},
   "outputs": [],
   "source": [
    "### Run this Notebook to tokenize raw text files from propplearner.\n",
    "### Tokenization includes sentence and word tokenization.\n",
    "### Saved to data/ProppLearner/Tokenized"
   ]
  },
  {
   "cell_type": "code",
   "execution_count": 4,
   "metadata": {},
   "outputs": [],
   "source": [
    "import glob"
   ]
  },
  {
   "cell_type": "code",
   "execution_count": 3,
   "metadata": {},
   "outputs": [],
   "source": [
    "import sys\n",
    "sys.path.append('../src')\n",
    "\n",
    "from misc import get_raw_text, tokenize_raw_text, save_dict, open_dict"
   ]
  },
  {
   "cell_type": "code",
   "execution_count": null,
   "metadata": {},
   "outputs": [],
   "source": [
    "#### Tokenize ProppLearner"
   ]
  },
  {
   "cell_type": "code",
   "execution_count": null,
   "metadata": {},
   "outputs": [],
   "source": [
    "txtFileLocation = \"data/ProppLearner/texts\"\n",
    "processedFileLocation = \"data/ProppLearner/tokenized\"\n",
    "\n",
    "n = 46\n",
    "offset = 0\n",
    "\n",
    "for storyNum in range(1 + offset,(n+1 + offset)):\n",
    "\n",
    "    txtFileName = \"story\" + str(storyNum) + '.txt'\n",
    "    pFileName = \"story\" + str(storyNum) + \".p\"\n",
    "\n",
    "    txtFilePath = txtFileLocation + txtFileName\n",
    "    dictSavePath = processedFileLocation + pFileName\n",
    "\n",
    "    rawText = get_raw_text(txtFilePath)\n",
    "    document = tokenize_raw_text(rawText)\n",
    "\n",
    "    save_dict(document, dictSavePath)"
   ]
  },
  {
   "cell_type": "code",
   "execution_count": 1,
   "metadata": {},
   "outputs": [],
   "source": [
    "#### Tokenize LitBank"
   ]
  },
  {
   "cell_type": "code",
   "execution_count": 19,
   "metadata": {},
   "outputs": [],
   "source": [
    "filePaths =  glob.glob(\"LitBank/texts/\"+\"*.txt\")\n",
    "\n",
    "for filePath in filePaths:\n",
    "    rawText = get_raw_text(filePath)\n",
    "    document = tokenize_raw_text(rawText)\n",
    "\n",
    "    pFileName = filePath.split('/')[-1]\n",
    "    pFileName = pFileName.split('.')[0] + '.p'\n",
    "\n",
    "    save_dict(document, 'LitBank/tokenized/'+pFileName)\n",
    "\n"
   ]
  }
 ],
 "metadata": {
  "kernelspec": {
   "display_name": "Python 3.9.7 ('MV00')",
   "language": "python",
   "name": "python3"
  },
  "language_info": {
   "codemirror_mode": {
    "name": "ipython",
    "version": 3
   },
   "file_extension": ".py",
   "mimetype": "text/x-python",
   "name": "python",
   "nbconvert_exporter": "python",
   "pygments_lexer": "ipython3",
   "version": "3.9.7"
  },
  "orig_nbformat": 4,
  "vscode": {
   "interpreter": {
    "hash": "624f414ac1c5eff7410d29e69a9fac3835d41a7cb677d4189ea56f6dcd743142"
   }
  }
 },
 "nbformat": 4,
 "nbformat_minor": 2
}
