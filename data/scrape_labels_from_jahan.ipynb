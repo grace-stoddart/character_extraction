{
 "cells": [
  {
   "cell_type": "markdown",
   "metadata": {},
   "source": [
    "This notebook scrapes character and animacy labels from Jahans labelled chains (CEN and ProppLearner). It then matches the labels to the indexed coreference chains: CEN AllenNLP corefs, ProppLearner AllenNLP corefs and ProppLearner Gold Corefs\n"
   ]
  },
  {
   "cell_type": "code",
   "execution_count": 1,
   "metadata": {},
   "outputs": [],
   "source": [
    "import numpy as np\n",
    "from collections import Counter\n",
    "\n",
    "import sys\n",
    "sys.path.append('../src/')\n",
    "\n",
    "from misc import open_dict, get_file_names, get_raw_text_latin, get_ref_expressions, scrape_char_and_animacy_labels, scrape_char_and_animacy_labels_new\n",
    "import json"
   ]
  },
  {
   "cell_type": "markdown",
   "metadata": {},
   "source": [
    "#### ProppLearner Gold Corefs"
   ]
  },
  {
   "cell_type": "code",
   "execution_count": 4,
   "metadata": {},
   "outputs": [],
   "source": [
    "### get character labels and animacy labels by comparing chain titles in coref chains from xml file, with labelled coref chain heads\n",
    "\n",
    "n = 15\n",
    "offset = 0\n",
    "\n",
    "for storyNum in range(1 + offset,(n+1 + offset)):\n",
    "\n",
    "    # get gold standard corefs\n",
    "    pFileName = \"story\" + str(storyNum) + \".p\"\n",
    "    corefs = open_dict('ProppLearner/corefs_gold_new_format/' + pFileName)\n",
    "\n",
    "    # get \"gold standard\" referring expressions &  character labels\n",
    "    jsonFileName = \"story\" + str(storyNum) + \".json\"\n",
    "\n",
    "    with open(\"../reproduction_of_jahan/intermediate/from_jahan_coref_file/ReferringExpressions/\" + jsonFileName, 'r') as f:\n",
    "            refExpressions = json.load(f)\n",
    "\n",
    "    npFileName = \"story\" + str(storyNum) + '.npy'\n",
    "    charLabels = np.load(\"../reproduction_of_jahan/intermediate/from_jahan_coref_file/CharacterLabels/\"+npFileName)\n",
    "    animLabels = np.load(\"../reproduction_of_jahan/intermediate/from_jahan_coref_file/Animacy/\"+npFileName)\n",
    "\n",
    "\n",
    "    # compare canonical name to 'Gold Standard' referring expressions. Get animacy label for matching GS coref chains.\n",
    "    char_labels = np.zeros(len(corefs['clusters']))\n",
    "    anim_labels = np.zeros(len(corefs['clusters']))\n",
    "\n",
    "    for i, chain in enumerate(corefs['clusters']):  \n",
    "        match = False\n",
    "\n",
    "        if chain['name'] == None:\n",
    "            char_labels[i] = 0.\n",
    "            anim_labels[i] = 0.\n",
    "            continue\n",
    "        \n",
    "        for j, refExp in enumerate(refExpressions):\n",
    "\n",
    "            if chain['name'] == refExp[0].strip():\n",
    "                char_labels[i] = charLabels[j]\n",
    "                anim_labels[i] = animLabels[j]\n",
    "                match = True\n",
    "                break\n",
    "\n",
    "        if match == False:\n",
    "            char_labels[i] = 0.\n",
    "            anim_labels[i] = 0.\n",
    "\n",
    "    # # save labels as a geature\n",
    "    # npFileName = \"story\" + str(storyNum)\n",
    "    np.save('../intermediate/ProppLearner/from_gold_corefs/character_labels_gold/' + npFileName, char_labels)\n",
    "    np.save('../intermediate/ProppLearner/from_gold_corefs/animacy_labels_gold/' + npFileName, anim_labels)"
   ]
  },
  {
   "cell_type": "markdown",
   "metadata": {},
   "source": [
    "#### ProppLearner and CEN AllenNLP corefs [OLD, USE SECTION BELOW]"
   ]
  },
  {
   "cell_type": "code",
   "execution_count": 1,
   "metadata": {},
   "outputs": [
    {
     "ename": "NameError",
     "evalue": "name 'get_file_names' is not defined",
     "output_type": "error",
     "traceback": [
      "\u001b[0;31m---------------------------------------------------------------------------\u001b[0m",
      "\u001b[0;31mNameError\u001b[0m                                 Traceback (most recent call last)",
      "\u001b[0;32m/tmp/ipykernel_18843/324169799.py\u001b[0m in \u001b[0;36m<module>\u001b[0;34m\u001b[0m\n\u001b[1;32m      3\u001b[0m \u001b[0;34m\u001b[0m\u001b[0m\n\u001b[1;32m      4\u001b[0m \u001b[0;34m\u001b[0m\u001b[0m\n\u001b[0;32m----> 5\u001b[0;31m \u001b[0mfileNames\u001b[0m \u001b[0;34m=\u001b[0m \u001b[0mget_file_names\u001b[0m\u001b[0;34m(\u001b[0m\u001b[0mcorefsDir\u001b[0m\u001b[0;34m,\u001b[0m \u001b[0;34m'.p'\u001b[0m\u001b[0;34m)\u001b[0m\u001b[0;34m\u001b[0m\u001b[0;34m\u001b[0m\u001b[0m\n\u001b[0m\u001b[1;32m      6\u001b[0m \u001b[0;34m\u001b[0m\u001b[0m\n\u001b[1;32m      7\u001b[0m \u001b[0;34m\u001b[0m\u001b[0m\n",
      "\u001b[0;31mNameError\u001b[0m: name 'get_file_names' is not defined"
     ]
    }
   ],
   "source": [
    "corefsDir = 'CEN/corefs_allen/'\n",
    "labelledChainsDir = 'CEN/coref_heads_labelled/'\n",
    "\n",
    "\n",
    "fileNames = get_file_names(corefsDir, '.p')\n",
    "\n",
    "\n",
    "for fileName in fileNames:\n",
    "\n",
    "    corefs = open_dict(corefsDir + fileName + '.p')\n",
    "\n",
    "    # get referring expressions\n",
    "    labChains = get_raw_text_latin(labelledChainsDir + fileName + '.txt')\n",
    "    refExpressions, charLabels, animLabels = get_ref_expressions(labChains)\n",
    "\n",
    "    # compare canonical name to 'Gold Standard' referring expressions. Get animacy label for matching GS coref chains.\n",
    "    char_labels = np.zeros(len(corefs['clusters']))\n",
    "    anim_labels = np.zeros(len(corefs['clusters']))\n",
    "\n",
    "    for i, chain in enumerate(corefs['clusters']):  \n",
    "        match = False\n",
    "        canonName = chain['name']\n",
    "\n",
    "        # if canon name is None or 's mark as not a character\n",
    "        if canonName == None or canonName.strip() == \"'s\":\n",
    "            char_labels[i] = 0.\n",
    "            anim_labels[i] = 0.\n",
    "            continue\n",
    "        \n",
    "        # remove \" 's\" from end of canon name\n",
    "        if len(canonName) > 3:\n",
    "            if canonName[-3:] == \" 's\":\n",
    "                canonName = canonName[:-3]\n",
    "        \n",
    "        for j, refExp in enumerate(refExpressions):\n",
    "\n",
    "            if canonName == refExp[0].strip():\n",
    "                char_labels[i] = charLabels[j]\n",
    "                anim_labels[i] = animLabels[j]\n",
    "                match = True\n",
    "                break\n",
    "\n",
    "        if match == False:\n",
    "            char_labels[i] = 0.\n",
    "            anim_labels[i] = 0.\n",
    "\n",
    "    np.save('../intermediate/CEN/from_allenNLP_corefs/character_labels_scraped/' + fileName, char_labels)\n",
    "    np.save('../intermediate/CEN/from_allenNLP_corefs/animacy_labels_scraped/' + fileName, anim_labels)"
   ]
  },
  {
   "cell_type": "code",
   "execution_count": 8,
   "metadata": {},
   "outputs": [],
   "source": [
    "corefsDir = 'ProppLearner/corefs_allen/'\n",
    "labelledChainsDir = 'ProppLearner/coref_heads_labelled/'\n",
    "\n",
    "\n",
    "fileNames = get_file_names(labelledChainsDir, '.txt')\n",
    "\n",
    "\n",
    "for fileName in fileNames:\n",
    "\n",
    "\n",
    "    fileNameLower = fileName.lower()\n",
    "\n",
    "    corefs = open_dict(corefsDir + fileNameLower + '.p')\n",
    "\n",
    "    # get referring expressions\n",
    "    labChains = get_raw_text_latin(labelledChainsDir + fileName + '.txt')\n",
    "    refExpressions, charLabels, animLabels = get_ref_expressions(labChains)\n",
    "\n",
    "    # compare canonical name to 'Gold Standard' referring expressions. Get animacy label for matching GS coref chains.\n",
    "    char_labels = np.zeros(len(corefs['clusters']))\n",
    "    anim_labels = np.zeros(len(corefs['clusters']))\n",
    "\n",
    "    for i, chain in enumerate(corefs['clusters']):  \n",
    "        match = False\n",
    "\n",
    "        if chain['name'] == None:\n",
    "            char_labels[i] = 0.\n",
    "            anim_labels[i] = 0.\n",
    "            continue\n",
    "        \n",
    "        for j, refExp in enumerate(refExpressions):\n",
    "\n",
    "            if chain['name'] == refExp[0].strip():\n",
    "                char_labels[i] = charLabels[j]\n",
    "                anim_labels[i] = animLabels[j]\n",
    "                match = True\n",
    "                break\n",
    "\n",
    "        if match == False:\n",
    "            char_labels[i] = 0.\n",
    "            anim_labels[i] = 0.\n",
    "\n",
    "    np.save('../intermediate/ProppLearner/from_allenNLP_corefs/character_labels_scraped/' + fileNameLower, char_labels)\n",
    "    np.save('../intermediate/ProppLearner/from_allenNLP_corefs/animacy_labels_scraped/' + fileNameLower, anim_labels)"
   ]
  },
  {
   "cell_type": "markdown",
   "metadata": {},
   "source": [
    "#### ProppLearner and CEN AllenNLP corefs"
   ]
  },
  {
   "cell_type": "code",
   "execution_count": 2,
   "metadata": {},
   "outputs": [],
   "source": [
    "### ProppLearner Allen corefs\n",
    "\n",
    "corefsDir = 'ProppLearner/corefs_allen/'\n",
    "labelledChainsDir = 'ProppLearner/coref_heads_labelled/'\n",
    "featuresDir = '../intermediate/ProppLearner/from_allenNLP_corefs/'\n",
    "\n",
    "\n",
    "# scrape_char_and_animacy_labels(corefsDir, labelledChainsDir, featuresDir, caseDiff=True)\n"
   ]
  },
  {
   "cell_type": "code",
   "execution_count": 3,
   "metadata": {},
   "outputs": [],
   "source": [
    "scrape_char_and_animacy_labels_new(corefsDir, labelledChainsDir, featuresDir, caseDiff=True)"
   ]
  },
  {
   "cell_type": "code",
   "execution_count": 4,
   "metadata": {},
   "outputs": [],
   "source": [
    "### CEN Allen corefs\n",
    "\n",
    "corefsDir = 'CEN/corefs_allen/'\n",
    "labelledChainsDir = 'CEN/coref_heads_labelled/'\n",
    "featuresDir = '../intermediate/CEN/from_allenNLP_corefs/'\n",
    "\n",
    "\n",
    "# scrape_char_and_animacy_labels(corefsDir, labelledChainsDir, featuresDir, caseDiff=False)"
   ]
  },
  {
   "cell_type": "code",
   "execution_count": 5,
   "metadata": {},
   "outputs": [],
   "source": [
    "scrape_char_and_animacy_labels_new(corefsDir, labelledChainsDir, featuresDir, caseDiff=False)"
   ]
  },
  {
   "cell_type": "code",
   "execution_count": null,
   "metadata": {},
   "outputs": [],
   "source": []
  }
 ],
 "metadata": {
  "kernelspec": {
   "display_name": "Python 3.7.13 ('character-allennlp-4')",
   "language": "python",
   "name": "python3"
  },
  "language_info": {
   "codemirror_mode": {
    "name": "ipython",
    "version": 3
   },
   "file_extension": ".py",
   "mimetype": "text/x-python",
   "name": "python",
   "nbconvert_exporter": "python",
   "pygments_lexer": "ipython3",
   "version": "3.7.13"
  },
  "orig_nbformat": 4,
  "vscode": {
   "interpreter": {
    "hash": "9f08a002cfb74b2506f54e27c15b4b151c42a9fcd7b5ae0eaf4159402e8079c0"
   }
  }
 },
 "nbformat": 4,
 "nbformat_minor": 2
}
