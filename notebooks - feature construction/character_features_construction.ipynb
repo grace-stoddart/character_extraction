{
 "cells": [
  {
   "cell_type": "code",
   "execution_count": 1,
   "metadata": {},
   "outputs": [],
   "source": [
    "from allennlp.predictors.predictor import Predictor\n",
    "import numpy as np\n",
    "import glob\n",
    "\n",
    "import sys\n",
    "sys.path.append('../src')\n",
    "\n",
    "from misc import open_dict, save_dict, get_file_names, get_raw_text, token_map, open_list, save_list\n",
    "from character_features import SRL_feat, dep_feat, ner_feat, SRL_feat, len_feat, CN_feat, WN_feat, disp_feat, QU_feat, const_feat, openie_feat\n",
    "from character_features_original import SRL_feat_original, dep_feat_original, ner_feat_original, openie_feat_original, CN_feat_original, WN_feat_original, openie_feat_coreNLP, ner_feat_coreNLP, dep_feat_coreNLP\n",
    "from animacy import categorise_coref_chains\n",
    "\n",
    "from settings import settings\n"
   ]
  },
  {
   "cell_type": "markdown",
   "metadata": {},
   "source": [
    "#### Consruct features (most)"
   ]
  },
  {
   "cell_type": "code",
   "execution_count": 2,
   "metadata": {},
   "outputs": [],
   "source": [
    "for name, set in settings.items():\n",
    "\n",
    "    tokensDir = set['tokensDir']\n",
    "    corefDir = set['corefDir']\n",
    "    featuresDir = set['featuresDir']\n",
    "    parsesDir = set['parsesDir']\n",
    "\n",
    "    ssDir = featuresDir + 'SS/'\n",
    "    dpDir = featuresDir + 'DP/'\n",
    "    neDir = featuresDir + 'NE/'\n",
    "    tpDir = featuresDir + 'TP/'\n",
    "    clDir = featuresDir + 'CL/'\n",
    "    cnDir = featuresDir + 'CN/'\n",
    "    wnDir = featuresDir + 'WN/'\n",
    "    cdDir = featuresDir + 'CD/'\n",
    "    cpDir = featuresDir + 'CP/'\n",
    "\n",
    "    ssOrigDir = featuresDir + 'OrigSS/'\n",
    "    dpOrigDir = featuresDir + 'OrigDP/'\n",
    "    neOrigDir = featuresDir + 'OrigNE/'\n",
    "    tpOrigDir = featuresDir + 'OrigTP/'\n",
    "    cnOrigDir = featuresDir + 'OrigCN/'\n",
    "    wnOrigDir = featuresDir + 'OrigWN/'\n",
    "\n",
    "    srlParsesDir = parsesDir + 'SRL-bert/'\n",
    "    depParsesDir = parsesDir + 'deps-biaffine/'\n",
    "    nerParsesDir = parsesDir + 'NER-elmo/'\n",
    "    openParsesDir = parsesDir + 'openIE/'\n",
    "    constParsesDir = parsesDir + 'constituency/'\n",
    "\n",
    "    fileNames = get_file_names(corefDir, '.p')\n",
    "    \n",
    "    if set['OrigOnly'] == False:\n",
    "\n",
    "        for fileName in fileNames:\n",
    "\n",
    "            # get corefs and document needed to construct feature\n",
    "            pFileName = fileName + \".p\"\n",
    "\n",
    "            document = open_dict(tokensDir + pFileName)\n",
    "            corefs = open_dict(corefDir + pFileName)\n",
    "\n",
    "            srlParses = open_dict(srlParsesDir + pFileName)['parses']\n",
    "            depParses = open_dict(depParsesDir + pFileName)['parses']\n",
    "            nerParses = open_dict(nerParsesDir + pFileName)['parses']\n",
    "            openParses = open_dict(openParsesDir + pFileName)['parses']\n",
    "            constParses = open_dict(constParsesDir + pFileName)['parses']\n",
    "            \n",
    "            # SS\n",
    "            srlFeat = SRL_feat(srlParses, document['sents'], corefs)\n",
    "            np.save(ssDir + fileName, srlFeat)\n",
    "\n",
    "            # DP\n",
    "            depFeat = dep_feat(depParses, document['sents'], corefs)\n",
    "            np.save(dpDir + fileName, depFeat)\n",
    "\n",
    "            # NE            \n",
    "            nerFeat = ner_feat(nerParses, document['sents'], corefs)\n",
    "            np.save(neDir + fileName, nerFeat)\n",
    "\n",
    "            # TP\n",
    "            openFeat = openie_feat(openParses, document['sents'], corefs)\n",
    "            np.save(tpDir + fileName, openFeat)\n",
    "\n",
    "            # CP\n",
    "            constFeat = const_feat(constParses, document['sents'], corefs)\n",
    "            np.save(cpDir + fileName, constFeat)\n",
    "\n",
    "            # # CD\n",
    "            # cdFeat = disp_feat(corefs, document)\n",
    "            # np.save(cdDir + fileName, cdFeat)\n",
    "\n",
    "            # # CN\n",
    "            # cnFeat = CN_feat(corefs)\n",
    "            # np.save(cnDir + fileName, cnFeat)\n",
    "\n",
    "            # # WN\n",
    "            # wnFeat = WN_feat(corefs)\n",
    "            # np.save(wnDir + fileName, wnFeat)\n",
    "\n",
    "\n",
    "    for fileName in fileNames:\n",
    "        corefs = open_dict(corefDir + fileName + \".p\")\n",
    "\n",
    "        pFileName = fileName + \".p\"\n",
    "        nerParses = open_dict(nerParsesDir + pFileName)\n",
    "        openParses = open_dict(openParsesDir + pFileName)\n",
    "        depParses = open_dict(depParsesDir + pFileName)\n",
    "        srlParses = open_dict(srlParsesDir + pFileName)\n",
    "\n",
    "        # CL\n",
    "        lenFeat = len_feat(corefs)\n",
    "        np.save(clDir + fileName, lenFeat)\n",
    "\n",
    "        # original features\n",
    "        dpOrigFeat = dep_feat_original(depParses, corefs)\n",
    "        np.save(dpOrigDir + fileName, dpOrigFeat)\n",
    "\n",
    "        ssOrigFeat = SRL_feat_original(srlParses, corefs)\n",
    "        np.save(ssOrigDir + fileName, ssOrigFeat)\n",
    "\n",
    "        neOrigFeat = ner_feat_original(nerParses, corefs)\n",
    "        np.save(neOrigDir + fileName, neOrigFeat)\n",
    "\n",
    "        tpOrigFeat = openie_feat_original(openParses, corefs)\n",
    "        np.save(tpOrigDir + fileName, tpOrigFeat)\n",
    "\n",
    "        # cnOrigFeat = CN_feat_original(corefs)\n",
    "        # np.save(cnOrigDir + fileName, cnOrigFeat)\n",
    "\n",
    "        # wnOrigFeat = WN_feat_original(corefs)\n",
    "        # np.save(wnOrigDir + fileName, wnOrigFeat)\n"
   ]
  },
  {
   "cell_type": "markdown",
   "metadata": {},
   "source": [
    "#### Construct Quotation Feature"
   ]
  },
  {
   "cell_type": "code",
   "execution_count": 6,
   "metadata": {},
   "outputs": [
    {
     "name": "stdout",
     "output_type": "stream",
     "text": [
      "345_dracula\n",
      "345_dracula\n"
     ]
    }
   ],
   "source": [
    "for set in settings.values():\n",
    "\n",
    "    if set['OrigOnly']:\n",
    "        continue\n",
    "\n",
    "    tokensDir = set['tokensDir']\n",
    "    corefDir = set['corefDir']\n",
    "    featuresDir = set['featuresDir']\n",
    "    parsesDir = set['parsesDir']\n",
    "\n",
    "    quDir = featuresDir + 'QU/'\n",
    "\n",
    "    coreNLPParseDir = parsesDir + 'quotes/'\n",
    "\n",
    "    fileNames = get_file_names(corefDir, '.p')\n",
    "    \n",
    "\n",
    "    for fileName in fileNames:\n",
    "        \n",
    "        print(fileName)\n",
    "        pFileName = fileName + \".p\"\n",
    "\n",
    "        tokenized = open_dict(tokensDir + pFileName)\n",
    "        corefs = open_dict(corefDir + pFileName)\n",
    "\n",
    "        if set['bratExtentionOnCoreNLPParseFiles']:\n",
    "            ann = open_dict(coreNLPParseDir + fileName + '_brat.p')\n",
    "        else:    \n",
    "            ann = open_dict(coreNLPParseDir + pFileName)\n",
    "\n",
    "        quFeat = QU_feat(corefs, ann, tokenized)\n",
    "\n",
    "        np.save(quDir + fileName, quFeat)"
   ]
  },
  {
   "cell_type": "markdown",
   "metadata": {},
   "source": [
    "#### Run Animacy Classifier"
   ]
  },
  {
   "cell_type": "code",
   "execution_count": 7,
   "metadata": {},
   "outputs": [],
   "source": [
    "for name, set in settings.items():\n",
    "\n",
    "    if set['OrigOnly']:\n",
    "        continue\n",
    "    \n",
    "    tokensDir = set['tokensDir']\n",
    "    corefDir = set['corefDir']\n",
    "    featuresDir = set['featuresDir']\n",
    "    parsesDir = set['parsesDir']\n",
    "\n",
    "\n",
    "    fileNames = get_file_names(corefDir, '.p')\n",
    "    animacyLabelsDir = featuresDir + 'animacy_labels_classifier/'\n",
    "\n",
    "    srlParsesDir = parsesDir + 'SRL-bert/'\n",
    "    nerParsesDir = parsesDir + 'NER-elmo/'\n",
    "\n",
    "    for fileName in fileNames:\n",
    "        \n",
    "        pFileName = fileName + \".p\"\n",
    "\n",
    "        corefs = open_dict(corefDir + pFileName)\n",
    "        corefChains = corefs['clusters']\n",
    "\n",
    "        nerParsesDict = open_dict(nerParsesDir + pFileName)\n",
    "        nerParses = nerParsesDict['parses']\n",
    "\n",
    "        srlParsesDict = open_dict(srlParsesDir + pFileName)\n",
    "        srlParses = srlParsesDict['parses']\n",
    "\n",
    "        document = open_dict(tokensDir + pFileName)\n",
    "        sentences = document['sents']\n",
    "\n",
    "        labels = categorise_coref_chains(corefChains, nerParses, srlParses, sentences)\n",
    "\n",
    "        np.save(animacyLabelsDir + fileName, labels)\n",
    "\n"
   ]
  },
  {
   "cell_type": "markdown",
   "metadata": {},
   "source": [
    "#### Old Features"
   ]
  },
  {
   "cell_type": "code",
   "execution_count": 8,
   "metadata": {},
   "outputs": [
    {
     "name": "stdout",
     "output_type": "stream",
     "text": [
      "345_dracula done\n",
      "345_dracula done\n"
     ]
    }
   ],
   "source": [
    "for name, set in settings.items():\n",
    "\n",
    "    corefDir = set['corefDir']\n",
    "    featuresDir = set['featuresDir']\n",
    "    coreNLPParseDir = set['parsesDir'] + 'coreNLP/'\n",
    "    coreNLPNERParseDir = set['parsesDir'] + 'coreNLP_ner/'\n",
    "\n",
    "    fileNames = get_file_names(corefDir, '.p')\n",
    "\n",
    "\n",
    "    for fileName in fileNames:\n",
    "\n",
    "        corefs = open_dict(corefDir + fileName + \".p\")\n",
    "\n",
    "        if set['bratExtentionOnCoreNLPParseFiles']:\n",
    "            annFileName = fileName + '_brat'\n",
    "        else:\n",
    "            annFileName = fileName\n",
    "\n",
    "        if 'ProppLearner' in name:\n",
    "            ann = open_list(coreNLPParseDir + annFileName + \".json\")\n",
    "        else:\n",
    "            ann = open_dict(coreNLPParseDir + annFileName + \".p\")\n",
    "\n",
    "        ann_ner = open_dict(coreNLPNERParseDir + annFileName + '.p')\n",
    "\n",
    "        ### dep feature\n",
    "        depsFeat = dep_feat_coreNLP(ann, corefs)\n",
    "        np.save(featuresDir + 'OrigDP_coreNLP/' + fileName, depsFeat)\n",
    "\n",
    "        ### trip feature\n",
    "        tripFeat = openie_feat_coreNLP(ann, corefs)\n",
    "        np.save(featuresDir + 'OrigTP_coreNLP/' + fileName, tripFeat)\n",
    "\n",
    "        ### ne features\n",
    "        nerFeat = ner_feat_coreNLP(ann_ner, corefs)\n",
    "        np.save(featuresDir + 'OrigNE_coreNLP/' + fileName, nerFeat)\n",
    "\n",
    "        print(fileName, 'done')"
   ]
  },
  {
   "cell_type": "markdown",
   "metadata": {},
   "source": [
    "### Testing"
   ]
  },
  {
   "cell_type": "code",
   "execution_count": 22,
   "metadata": {},
   "outputs": [],
   "source": [
    "tokenized = open_dict('../data/LitBank/tokenized_shortened/345_dracula.p')"
   ]
  },
  {
   "cell_type": "code",
   "execution_count": 23,
   "metadata": {},
   "outputs": [
    {
     "data": {
      "text/plain": [
       "2232"
      ]
     },
     "execution_count": 23,
     "metadata": {},
     "output_type": "execute_result"
    }
   ],
   "source": [
    "len(tokenized['tokens'])"
   ]
  },
  {
   "cell_type": "code",
   "execution_count": 21,
   "metadata": {},
   "outputs": [],
   "source": [
    "fileNames = get_file_names('../data/LitBank/tokenized_shortened/', '.p')\n",
    "\n",
    "for fileName in fileNames:\n",
    "\n",
    "    tokenized = open_dict('../data/LitBank/tokenized_shortened/'+fileName+'.p')\n",
    "    if len(tokenized['tokens']) > 2500:\n",
    "        print(fileName)"
   ]
  },
  {
   "cell_type": "code",
   "execution_count": 13,
   "metadata": {},
   "outputs": [
    {
     "name": "stdout",
     "output_type": "stream",
     "text": [
      "[{'mentions': [{'position': [20, 26], 'text': 'the Academy of Music in New York'}, {'position': [86, 89], 'text': 'the sociable old Academy'}, {'position': [93, 93], 'text': 'it'}, {'position': [127, 127], 'text': 'it'}, {'position': [129, 129], 'text': 'its'}, {'position': [137, 137], 'text': 'its'}, {'position': [292, 293], 'text': 'the Academy'}, {'position': [585, 586], 'text': 'the Academy'}], 'name': 'its'}, {'mentions': [{'position': [25, 26], 'text': 'New York'}, {'position': [110, 111], 'text': 'New York'}, {'position': [419, 420], 'text': 'New York'}, {'position': [461, 465], 'text': \"Newland Archer 's New York\"}, {'position': [1389, 1391], 'text': \"New York 's\"}, {'position': [1696, 1698], 'text': 'old New York'}, {'position': [1697, 1698], 'text': 'New York'}, {'position': [1741, 1742], 'text': 'New York'}, {'position': [1824, 1825], 'text': 'New York'}], 'name': 'New York'}, {'mentions': [{'position': [13, 14], 'text': 'Christine Nilsson'}, {'position': [157, 159], 'text': \"Madame Nilsson 's\"}, {'position': [186, 186], 'text': 'her'}, {'position': [938, 940], 'text': \"Madame Nilsson 's\"}, {'position': [1186, 1187], 'text': 'Madame Nilsson'}], 'name': \"Madame Nilsson 's\"}, {'mentions': [{'position': [310, 310], 'text': 'Americans'}, {'position': [321, 321], 'text': 'they'}], 'name': 'Americans'}, {'mentions': [{'position': [316, 316], 'text': 'amusement'}, {'position': [326, 326], 'text': 'it'}], 'name': 'amusement'}, {'mentions': [{'position': [299, 302], 'text': \"the great livery-stableman 's\"}, {'position': [329, 330], 'text': 'Newland Archer'}, {'position': [357, 359], 'text': 'the young man'}, {'position': [367, 367], 'text': 'he'}, {'position': [375, 375], 'text': 'his'}, {'position': [407, 408], 'text': 'Mrs. Archer'}, {'position': [461, 463], 'text': \"Newland Archer 's\"}, {'position': [477, 477], 'text': 'his'}, {'position': [488, 488], 'text': 'his'}, {'position': [495, 495], 'text': 'He'}, {'position': [499, 499], 'text': 'his'}, {'position': [502, 502], 'text': 'he'}, {'position': [518, 518], 'text': 'him'}, {'position': [540, 540], 'text': 'his'}, {'position': [551, 551], 'text': 'he'}, {'position': [567, 567], 'text': 'he'}, {'position': [570, 570], 'text': 'his'}, {'position': [580, 580], 'text': 'he'}, {'position': [686, 687], 'text': 'Newland Archer'}, {'position': [695, 695], 'text': 'his'}, {'position': [710, 710], 'text': 'his'}, {'position': [717, 717], 'text': 'his'}, {'position': [735, 735], 'text': 'his'}, {'position': [814, 815], 'text': 'Newland Archer'}, {'position': [830, 830], 'text': 'his'}, {'position': [846, 846], 'text': 'him'}, {'position': [1022, 1023], 'text': 'Newland Archer'}, {'position': [1033, 1033], 'text': 'He'}, {'position': [1041, 1041], 'text': 'his'}, {'position': [1069, 1069], 'text': 'his'}, {'position': [1270, 1271], 'text': 'Newland Archer'}, {'position': [1273, 1273], 'text': 'his'}, {'position': [1299, 1299], 'text': 'he'}, {'position': [1314, 1314], 'text': 'his'}, {'position': [1341, 1341], 'text': 'he'}, {'position': [1350, 1350], 'text': 'his'}, {'position': [1362, 1362], 'text': 'his'}, {'position': [1368, 1368], 'text': 'his'}, {'position': [1381, 1381], 'text': 'him'}, {'position': [1401, 1401], 'text': 'his'}, {'position': [1423, 1423], 'text': 'his'}, {'position': [1433, 1433], 'text': 'He'}, {'position': [1450, 1450], 'text': 'He'}, {'position': [1456, 1456], 'text': 'his'}, {'position': [1505, 1505], 'text': 'he'}, {'position': [1512, 1512], 'text': 'his'}, {'position': [1516, 1516], 'text': 'he'}, {'position': [1521, 1521], 'text': 'he'}, {'position': [1529, 1529], 'text': 'his'}, {'position': [1548, 1548], 'text': 'his'}, {'position': [1609, 1609], 'text': 'he'}, {'position': [1620, 1620], 'text': 'he'}, {'position': [1625, 1625], 'text': 'his'}, {'position': [1632, 1632], 'text': 'he'}, {'position': [1659, 1659], 'text': 'him'}, {'position': [1684, 1685], 'text': 'Newland Archer'}, {'position': [1687, 1687], 'text': 'himself'}, {'position': [1701, 1701], 'text': 'he'}, {'position': [1752, 1752], 'text': 'him'}, {'position': [1763, 1763], 'text': 'He'}, {'position': [1785, 1785], 'text': 'himself'}], 'name': 'Newland Archer'}, {'mentions': [{'position': [435, 436], 'text': 'the thing'}, {'position': [452, 453], 'text': 'the thing'}], 'name': 'the thing'}, {'mentions': [{'position': [512, 515], 'text': 'a pleasure to come'}, {'position': [523, 523], 'text': 'its'}, {'position': [532, 533], 'text': 'the pleasure'}], 'name': 'a pleasure to come'}, {'mentions': [{'position': [575, 578], 'text': \"the prima donna 's\"}, {'position': [595, 595], 'text': 'she'}, {'position': [602, 602], 'text': 'me'}, {'position': [606, 606], 'text': 'me'}, {'position': [611, 611], 'text': 'ME'}, {'position': [628, 628], 'text': 'She'}, {'position': [745, 747], 'text': 'the prima donna'}, {'position': [765, 765], 'text': 'she'}, {'position': [771, 771], 'text': 'her'}, {'position': [775, 775], 'text': 'her'}, {'position': [967, 969], 'text': \"the girl 's\"}, {'position': [973, 973], 'text': 'her'}, {'position': [979, 979], 'text': 'her'}, {'position': [989, 989], 'text': 'her'}, {'position': [1007, 1007], 'text': 'She'}, {'position': [1009, 1009], 'text': 'her'}, {'position': [1018, 1018], 'text': 'her'}, {'position': [1025, 1025], 'text': 'her'}, {'position': [1216, 1216], 'text': 'her'}, {'position': [1265, 1266], 'text': 'The darling'}, {'position': [1286, 1286], 'text': 'She'}, {'position': [1301, 1301], 'text': 'her'}, {'position': [1325, 1325], 'text': 'her'}, {'position': [1368, 1369], 'text': 'his bride'}, {'position': [1384, 1384], 'text': 'she'}, {'position': [1421, 1421], 'text': 'her'}, {'position': [1440, 1444], 'text': 'the future Mrs. Newland Archer'}, {'position': [1452, 1452], 'text': 'her'}, {'position': [1470, 1470], 'text': 'her'}, {'position': [1473, 1473], 'text': 'her'}, {'position': [1529, 1530], 'text': 'his wife'}], 'name': \"the prima donna 's\"}, {'mentions': [{'position': [600, 600], 'text': 'He'}, {'position': [604, 604], 'text': 'he'}, {'position': [609, 609], 'text': 'HE'}, {'position': [641, 641], 'text': 'he'}], 'name': None}, {'mentions': [{'position': [338, 340], 'text': 'the club box'}, {'position': [825, 827], 'text': 'the club box'}, {'position': [897, 898], 'text': 'the box'}, {'position': [1651, 1653], 'text': 'the club box'}], 'name': 'the club box'}, {'mentions': [{'position': [404, 405], 'text': 'the house'}, {'position': [841, 842], 'text': 'the house'}], 'name': 'the house'}, {'mentions': [{'position': [866, 866], 'text': 'her'}, {'position': [902, 902], 'text': 'her'}, {'position': [910, 910], 'text': 'her'}], 'name': None}, {'mentions': [{'position': [902, 914], 'text': 'her daughter-in-law , Mrs. Lovell Mingott , and her daughter , Mrs. Welland'}, {'position': [920, 922], 'text': 'these brocaded matrons'}], 'name': 'her daughter-in-law , Mrs. Lovell Mingott , and her daughter , Mrs. Welland'}, {'mentions': [{'position': [989, 990], 'text': 'her breast'}, {'position': [995, 995], 'text': 'it'}], 'name': 'her breast'}, {'mentions': [{'position': [1012, 1019], 'text': 'the immense bouquet of lilies-of-the-valley on her knee'}, {'position': [1029, 1030], 'text': 'the flowers'}], 'name': 'the immense bouquet of lilies-of-the-valley on her knee'}, {'mentions': [{'position': [833, 834], 'text': 'the stage'}, {'position': [1045, 1046], 'text': 'the stage'}], 'name': 'the stage'}, {'mentions': [{'position': [1119, 1123], 'text': 'large pink and red roses'}, {'position': [1131, 1132], 'text': 'the roses'}], 'name': 'large pink and red roses'}, {'mentions': [{'position': [1054, 1078], 'text': 'the setting , which was acknowledged to be very beautiful even by people who shared his acquaintance with the Opera houses of Paris and Vienna'}, {'position': [1183, 1185], 'text': 'this enchanted garden'}], 'name': 'the setting , which was acknowledged to be very beautiful even by people who shared his acquaintance with the Opera houses of Paris and Vienna'}, {'mentions': [{'position': [810, 810], 'text': 'his'}, {'position': [1236, 1236], 'text': 'his'}, {'position': [1245, 1245], 'text': 'he'}], 'name': None}, {'mentions': [{'position': [1497, 1498], 'text': 'masculine homage'}, {'position': [1502, 1502], 'text': 'it'}], 'name': 'masculine homage'}, {'mentions': [{'position': [1541, 1554], 'text': 'the married lady whose charms had held his fancy through two mildly agitated years'}, {'position': [1571, 1574], 'text': \"that unhappy being 's\"}, {'position': [1580, 1580], 'text': 'his'}], 'name': 'the married lady whose charms had held his fancy through two mildly agitated years'}, {'mentions': [{'position': [1589, 1594], 'text': 'this miracle of fire and ice'}, {'position': [1603, 1603], 'text': 'itself'}], 'name': 'this miracle of fire and ice'}, {'mentions': [{'position': [1625, 1626], 'text': 'his view'}, {'position': [1629, 1629], 'text': 'it'}, {'position': [1634, 1634], 'text': 'it'}], 'name': 'his view'}, {'mentions': [{'position': [1663, 1663], 'text': 'their'}, {'position': [1692, 1699], 'text': 'these chosen specimens of old New York gentility'}, {'position': [1730, 1730], 'text': 'they'}, {'position': [1732, 1732], 'text': 'their'}, {'position': [1738, 1738], 'text': 'they'}, {'position': [1754, 1754], 'text': 'their'}], 'name': 'these chosen specimens of old New York gentility'}, {'mentions': [{'position': [1791, 1791], 'text': 'my'}, {'position': [1796, 1797], 'text': 'Lawrence Lefferts'}, {'position': [1800, 1800], 'text': 'his'}, {'position': [1808, 1809], 'text': 'Lawrence Lefferts'}, {'position': [1827, 1827], 'text': 'He'}, {'position': [1854, 1854], 'text': 'his'}, {'position': [1866, 1866], 'text': 'him'}, {'position': [1872, 1872], 'text': 'his'}, {'position': [1879, 1879], 'text': 'his'}, {'position': [1893, 1893], 'text': 'his'}, {'position': [1942, 1942], 'text': 'him'}, {'position': [1967, 1968], 'text': 'Larry Lefferts'}, {'position': [1982, 1982], 'text': 'his'}, {'position': [1994, 1994], 'text': 'he'}, {'position': [2000, 2000], 'text': 'his'}], 'name': 'Lawrence Lefferts'}, {'mentions': [{'position': [1821, 1821], 'text': 'form'}, {'position': [1841, 1845], 'text': 'this intricate and fascinating question'}], 'name': 'form'}]\n",
      "[]\n",
      "[{'mentions': [{'position': [2, 12], 'text': 'Sir Walter Elliot , of Kellynch Hall , in Somersetshire ,'}, {'position': [19, 19], 'text': 'his'}, {'position': [33, 33], 'text': 'he'}, {'position': [49, 49], 'text': 'his'}, {'position': [84, 84], 'text': 'he'}, {'position': [106, 106], 'text': 'he'}, {'position': [109, 109], 'text': 'his'}, {'position': [132, 135], 'text': 'ELLIOT OF KELLYNCH HALL'}, {'position': [138, 145], 'text': 'Walter Elliot , born March 1 , 1760'}, {'position': [181, 181], 'text': 'he'}, {'position': [231, 232], 'text': 'Sir Walter'}, {'position': [243, 243], 'text': 'himself'}, {'position': [245, 245], 'text': 'his'}, {'position': [300, 300], 'text': 'he'}, {'position': [303, 303], 'text': 'his'}, {'position': [411, 413], 'text': \"Sir Walter 's\"}, {'position': [448, 451], 'text': \"Sir Walter Elliot 's\"}, {'position': [461, 461], 'text': 'He'}, {'position': [467, 467], 'text': 'his'}, {'position': [492, 492], 'text': 'he'}, {'position': [510, 510], 'text': 'he'}, {'position': [515, 515], 'text': 'He'}, {'position': [532, 540], 'text': 'the Sir Walter Elliot , who united these gifts'}, {'position': [547, 547], 'text': 'his'}, {'position': [553, 553], 'text': 'His'}, {'position': [557, 557], 'text': 'his'}, {'position': [564, 564], 'text': 'his'}, {'position': [570, 570], 'text': 'he'}, {'position': [585, 585], 'text': 'his'}, {'position': [810, 811], 'text': 'Sir Walter'}, {'position': [915, 917], 'text': \"Sir Walter 's\"}, {'position': [930, 931], 'text': 'Sir Walter'}, {'position': [954, 954], 'text': 'himself'}, {'position': [959, 959], 'text': 'his'}, {'position': [969, 969], 'text': 'his'}, {'position': [972, 972], 'text': 'he'}, {'position': [982, 982], 'text': 'he'}, {'position': [1021, 1021], 'text': 'himself'}, {'position': [1039, 1039], 'text': 'His'}, {'position': [1377, 1378], 'text': 'Sir Walter'}, {'position': [1404, 1404], 'text': 'himself'}, {'position': [1424, 1424], 'text': 'he'}, {'position': [1434, 1434], 'text': 'his'}, {'position': [1474, 1474], 'text': 'him'}, {'position': [1798, 1819], 'text': 'The heir presumptive , the very William Walter Elliot , Esq. , whose rights had been so generously supported by her father'}, {'position': [1840, 1840], 'text': 'him'}, {'position': [1853, 1855], 'text': 'the future baronet'}, {'position': [1860, 1860], 'text': 'him'}, {'position': [1872, 1872], 'text': 'He'}, {'position': [1891, 1892], 'text': 'Sir Walter'}, {'position': [1900, 1900], 'text': 'his'}, {'position': [1910, 1910], 'text': 'he'}, {'position': [1945, 1946], 'text': 'Mr Elliot'}, {'position': [1954, 1954], 'text': 'He'}, {'position': [1976, 1976], 'text': 'him'}, {'position': [1984, 1984], 'text': 'his'}, {'position': [1989, 1989], 'text': 'He'}, {'position': [1996, 1996], 'text': 'he'}, {'position': [2010, 2010], 'text': 'he'}, {'position': [2017, 2017], 'text': 'he'}, {'position': [2038, 2038], 'text': 'he'}, {'position': [2049, 2049], 'text': 'he'}, {'position': [2056, 2056], 'text': 'his'}, {'position': [2072, 2072], 'text': 'he'}, {'position': [2078, 2078], 'text': 'himself'}], 'name': 'Sir Walter'}, {'mentions': [{'position': [7, 11], 'text': 'Kellynch Hall , in Somersetshire'}, {'position': [134, 135], 'text': 'KELLYNCH HALL'}, {'position': [400, 407], 'text': 'Kellynch Hall , in the county of Somerset'}, {'position': [1494, 1495], 'text': 'Kellynch Hall'}, {'position': [1993, 1994], 'text': 'Kellynch Hall'}], 'name': 'Kellynch Hall'}, {'mentions': [{'position': [119, 119], 'text': 'This'}, {'position': [221, 222], 'text': 'the paragraph'}, {'position': [235, 235], 'text': 'it'}], 'name': 'This'}, {'mentions': [{'position': [209, 215], 'text': 'Mary , born November 20 , 1791'}, {'position': [255, 256], 'text': \"Mary 's\"}, {'position': [1049, 1049], 'text': 'Mary'}, {'position': [1270, 1270], 'text': 'Mary'}, {'position': [1274, 1274], 'text': 'herself'}], 'name': 'Mary'}, {'mentions': [{'position': [11, 11], 'text': 'Somersetshire'}, {'position': [282, 285], 'text': 'the county of Somerset'}, {'position': [285, 285], 'text': 'Somerset'}, {'position': [404, 407], 'text': 'the county of Somerset'}, {'position': [407, 407], 'text': 'Somerset'}], 'name': 'the county of Somerset'}, {'mentions': [{'position': [245, 246], 'text': 'his family'}, {'position': [313, 317], 'text': 'the ancient and respectable family'}, {'position': [325, 325], 'text': 'it'}, {'position': [376, 376], 'text': 'they'}, {'position': [1787, 1789], 'text': 'her own family'}, {'position': [1878, 1878], 'text': 'them'}, {'position': [2067, 2070], 'text': 'the house of Elliot'}], 'name': 'his family'}, {'mentions': [{'position': [482, 483], 'text': 'Few women'}, {'position': [488, 488], 'text': 'their'}], 'name': 'Few women'}, {'mentions': [{'position': [553, 558], 'text': 'His good looks and his rank'}, {'position': [569, 569], 'text': 'them'}], 'name': 'His good looks and his rank'}, {'mentions': [{'position': [588, 589], 'text': 'Lady Elliot'}, {'position': [615, 615], 'text': 'her'}, {'position': [616, 617], 'text': 'Lady Elliot'}, {'position': [625, 625], 'text': 'She'}, {'position': [656, 656], 'text': 'herself'}, {'position': [662, 662], 'text': 'her'}, {'position': [665, 665], 'text': 'her'}, {'position': [669, 669], 'text': 'her'}, {'position': [674, 674], 'text': 'her'}, {'position': [686, 686], 'text': 'her'}, {'position': [688, 688], 'text': 'she'}, {'position': [735, 735], 'text': 'She'}, {'position': [760, 760], 'text': 'herself'}, {'position': [766, 766], 'text': 'her'}, {'position': [781, 782], 'text': 'Lady Elliot'}, {'position': [798, 798], 'text': 'she'}, {'position': [803, 803], 'text': 'her'}, {'position': [835, 837], 'text': \"Lady Elliot 's\"}, {'position': [1886, 1888], 'text': \"Lady Elliot 's\"}], 'name': 'Lady Elliot'}, {'mentions': [{'position': [634, 634], 'text': 'his'}, {'position': [639, 639], 'text': 'his'}], 'name': None}, {'mentions': [{'position': [669, 670], 'text': 'her children'}, {'position': [803, 804], 'text': 'her daughters'}, {'position': [959, 962], 'text': \"his dear daughters '\"}], 'name': 'her children'}, {'mentions': [{'position': [776, 776], 'text': 'her'}, {'position': [806, 807], 'text': 'This friend'}], 'name': 'This friend'}, {'mentions': [{'position': [806, 811], 'text': 'This friend , and Sir Walter'}, {'position': [826, 826], 'text': 'their'}, {'position': [841, 841], 'text': 'they'}], 'name': 'This friend , and Sir Walter'}, {'mentions': [{'position': [302, 302], 'text': 'lost'}, {'position': [835, 838], 'text': \"Lady Elliot 's death\"}, {'position': [1886, 1889], 'text': \"Lady Elliot 's death\"}], 'name': \"Lady Elliot 's death\"}, {'mentions': [{'position': [902, 903], 'text': 'a woman'}, {'position': [910, 910], 'text': 'she'}], 'name': 'a woman'}, {'mentions': [{'position': [966, 970], 'text': 'one daughter , his eldest'}, {'position': [992, 992], 'text': 'Elizabeth'}, {'position': [1006, 1006], 'text': 'her'}, {'position': [1023, 1023], 'text': 'her'}, {'position': [1267, 1267], 'text': 'Elizabeth'}, {'position': [1297, 1297], 'text': 'Elizabeth'}, {'position': [1358, 1374], 'text': 'Elizabeth , still the same handsome Miss Elliot that she had begun to be thirteen years ago'}, {'position': [1367, 1367], 'text': 'she'}, {'position': [1387, 1387], 'text': 'her'}, {'position': [1406, 1406], 'text': 'Elizabeth'}, {'position': [1476, 1476], 'text': 'Elizabeth'}, {'position': [1481, 1481], 'text': 'her'}, {'position': [1491, 1491], 'text': 'her'}, {'position': [1513, 1513], 'text': 'her'}, {'position': [1517, 1517], 'text': 'she'}, {'position': [1524, 1524], 'text': 'she'}, {'position': [1573, 1573], 'text': 'her'}, {'position': [1593, 1593], 'text': 'she'}, {'position': [1599, 1599], 'text': 'her'}, {'position': [1614, 1614], 'text': 'She'}, {'position': [1622, 1622], 'text': 'she'}, {'position': [1631, 1631], 'text': 'her'}, {'position': [1638, 1638], 'text': 'she'}, {'position': [1652, 1652], 'text': 'she'}, {'position': [1654, 1654], 'text': 'her'}, {'position': [1684, 1684], 'text': 'she'}, {'position': [1698, 1698], 'text': 'her'}, {'position': [1704, 1704], 'text': 'she'}, {'position': [1717, 1717], 'text': 'her'}, {'position': [1744, 1744], 'text': 'her'}, {'position': [1754, 1754], 'text': 'her'}, {'position': [1757, 1757], 'text': 'she'}, {'position': [1770, 1770], 'text': 'She'}, {'position': [1787, 1787], 'text': 'her'}, {'position': [1818, 1818], 'text': 'her'}, {'position': [1823, 1823], 'text': 'her'}, {'position': [1825, 1825], 'text': 'She'}, {'position': [1837, 1837], 'text': 'she'}, {'position': [1848, 1848], 'text': 'her'}, {'position': [1863, 1863], 'text': 'her'}, {'position': [1869, 1869], 'text': 'she'}, {'position': [1938, 1938], 'text': 'Elizabeth'}, {'position': [1941, 1941], 'text': 'her'}, {'position': [1974, 1974], 'text': 'Elizabeth'}], 'name': 'Elizabeth'}, {'mentions': [{'position': [303, 304], 'text': 'his wife'}, {'position': [1006, 1008], 'text': \"her mother 's\"}, {'position': [1153, 1154], 'text': 'the mother'}], 'name': 'his wife'}, {'mentions': [{'position': [273, 276], 'text': 'Charles Musgrove , Esq'}, {'position': [1059, 1061], 'text': 'Mrs Charles Musgrove'}], 'name': 'Charles Musgrove , Esq'}, {'mentions': [{'position': [1064, 1064], 'text': 'Anne'}, {'position': [1080, 1080], 'text': 'her'}, {'position': [1097, 1097], 'text': 'her'}, {'position': [1103, 1103], 'text': 'her'}, {'position': [1111, 1111], 'text': 'she'}, {'position': [1122, 1122], 'text': 'she'}, {'position': [1148, 1148], 'text': 'Anne'}, {'position': [1164, 1165], 'text': 'Anne Elliot'}, {'position': [1174, 1174], 'text': 'her'}, {'position': [1187, 1187], 'text': 'her'}, {'position': [1195, 1195], 'text': 'her'}, {'position': [1202, 1202], 'text': 'her'}, {'position': [1223, 1223], 'text': 'she'}, {'position': [1249, 1249], 'text': 'her'}], 'name': 'Anne'}, {'mentions': [{'position': [862, 875], 'text': 'Lady Russell , of steady age and character , and extremely well provided for'}, {'position': [1117, 1118], 'text': 'Lady Russell'}, {'position': [1137, 1138], 'text': 'Lady Russell'}, {'position': [1150, 1150], 'text': 'she'}, {'position': [1464, 1466], 'text': \"Lady Russell 's\"}, {'position': [1553, 1554], 'text': 'Lady Russell'}], 'name': 'Lady Russell'}, {'mentions': [{'position': [1187, 1188], 'text': 'her father'}, {'position': [1210, 1210], 'text': 'his'}, {'position': [1231, 1231], 'text': 'his'}, {'position': [1234, 1234], 'text': 'He'}, {'position': [1241, 1241], 'text': 'he'}, {'position': [1256, 1256], 'text': 'his'}, {'position': [1481, 1482], 'text': 'her father'}, {'position': [1599, 1600], 'text': 'her father'}, {'position': [1744, 1745], 'text': 'her father'}, {'position': [1818, 1819], 'text': 'her father'}, {'position': [1863, 1864], 'text': 'her father'}], 'name': 'her father'}, {'mentions': [{'position': [1202, 1208], 'text': 'her delicate features and mild dark eyes'}, {'position': [1219, 1219], 'text': 'them'}], 'name': 'her delicate features and mild dark eyes'}, {'mentions': [{'position': [1312, 1313], 'text': 'a woman'}, {'position': [1319, 1319], 'text': 'she'}], 'name': 'a woman'}, {'mentions': [{'position': [1372, 1373], 'text': 'thirteen years'}, {'position': [1487, 1488], 'text': 'Thirteen years'}], 'name': 'thirteen years'}, {'mentions': [{'position': [1586, 1587], 'text': 'thirteen springs'}, {'position': [1589, 1589], 'text': 'their'}], 'name': 'thirteen springs'}, {'mentions': [{'position': [1688, 1691], 'text': 'the book of books'}, {'position': [1706, 1706], 'text': 'it'}, {'position': [1733, 1734], 'text': 'the book'}, {'position': [1748, 1748], 'text': 'it'}, {'position': [1759, 1759], 'text': 'it'}, {'position': [1767, 1767], 'text': 'it'}, {'position': [1779, 1780], 'text': 'that book'}], 'name': 'the book of books'}, {'mentions': [{'position': [1773, 1774], 'text': 'a disappointment'}, {'position': [1822, 1822], 'text': 'disappointed'}], 'name': 'a disappointment'}, {'mentions': [{'position': [1895, 1896], 'text': 'the acquaintance'}, {'position': [1915, 1915], 'text': 'it'}], 'name': 'the acquaintance'}, {'mentions': [{'position': [1597, 1597], 'text': 'London'}, {'position': [1935, 1935], 'text': 'London'}], 'name': 'London'}]\n",
      "[{'mentions': [{'position': [4, 20], 'text': 'Emma Woodhouse , handsome , clever , and rich , with a comfortable home and happy disposition'}, {'position': [49, 49], 'text': 'her'}, {'position': [51, 51], 'text': 'She'}, {'position': [73, 73], 'text': 'her'}, {'position': [89, 89], 'text': 'Her'}, {'position': [97, 97], 'text': 'her'}, {'position': [162, 162], 'text': 'Emma'}, {'position': [227, 227], 'text': 'Emma'}, {'position': [231, 231], 'text': 'she'}, {'position': [245, 245], 'text': 'her'}, {'position': [255, 256], 'text': \"Emma 's\"}, {'position': [266, 266], 'text': 'her'}, {'position': [280, 280], 'text': 'herself'}, {'position': [290, 290], 'text': 'her'}, {'position': [316, 316], 'text': 'her'}, {'position': [361, 361], 'text': 'Emma'}, {'position': [380, 380], 'text': 'her'}, {'position': [383, 383], 'text': 'herself'}, {'position': [402, 402], 'text': 'Her'}, {'position': [415, 415], 'text': 'she'}, {'position': [425, 425], 'text': 'she'}, {'position': [437, 437], 'text': 'her'}, {'position': [472, 472], 'text': 'she'}, {'position': [490, 490], 'text': 'her'}, {'position': [506, 506], 'text': 'She'}, {'position': [688, 688], 'text': 'she'}, {'position': [699, 699], 'text': 'her'}, {'position': [711, 711], 'text': 'Emma'}, {'position': [743, 743], 'text': 'her'}, {'position': [750, 750], 'text': 'she'}, {'position': [762, 762], 'text': 'She'}, {'position': [765, 765], 'text': 'her'}, {'position': [774, 774], 'text': 'her'}, {'position': [780, 780], 'text': 'her'}, {'position': [869, 869], 'text': 'Her'}, {'position': [893, 893], 'text': 'her'}, {'position': [936, 936], 'text': 'her'}, {'position': [977, 977], 'text': 'her'}, {'position': [995, 995], 'text': 'She'}, {'position': [1004, 1004], 'text': 'her'}, {'position': [1037, 1037], 'text': 'Emma'}, {'position': [1052, 1052], 'text': 'her'}, {'position': [1122, 1125], 'text': \"his own daughter 's\"}, {'position': [1133, 1133], 'text': 'her'}, {'position': [1226, 1226], 'text': 'Emma'}, {'position': [1233, 1233], 'text': 'she'}, {'position': [1292, 1292], 'text': 'I'}, {'position': [1303, 1303], 'text': 'I'}, {'position': [1345, 1345], 'text': 'my'}, {'position': [1388, 1388], 'text': 'you'}, {'position': [1395, 1395], 'text': 'my'}, {'position': [1438, 1438], 'text': 'My'}, {'position': [1438, 1439], 'text': 'My dear'}, {'position': [1443, 1443], 'text': 'I'}, {'position': [1455, 1455], 'text': 'I'}, {'position': [1466, 1466], 'text': 'papa'}, {'position': [1471, 1471], 'text': 'your'}, {'position': [1534, 1534], 'text': 'papa'}, {'position': [1561, 1561], 'text': 'you'}, {'position': [1576, 1578], 'text': \"his daughter 's\"}, {'position': [1583, 1583], 'text': 'I'}, {'position': [1604, 1604], 'text': 'Hannah'}, {'position': [1612, 1612], 'text': 'Hannah'}, {'position': [1616, 1616], 'text': 'her'}, {'position': [1635, 1635], 'text': 'her'}, {'position': [1661, 1661], 'text': 'she'}, {'position': [1669, 1669], 'text': 'she'}, {'position': [1683, 1683], 'text': 'her'}, {'position': [1688, 1688], 'text': 'her'}, {'position': [1690, 1690], 'text': 'she'}, {'position': [1708, 1708], 'text': 'you'}, {'position': [1711, 1711], 'text': 'her'}, {'position': [1719, 1719], 'text': 'she'}, {'position': [1738, 1738], 'text': 'she'}, {'position': [1774, 1775], 'text': 'his daughter'}, {'position': [1780, 1780], 'text': 'she'}, {'position': [1793, 1793], 'text': 'her'}, {'position': [1799, 1799], 'text': 'Emma'}], 'name': 'Emma'}, {'mentions': [{'position': [60, 65], 'text': 'a most affectionate , indulgent father'}, {'position': [81, 81], 'text': 'his'}, {'position': [140, 142], 'text': \"Mr. Woodhouse 's\"}, {'position': [380, 381], 'text': 'her father'}, {'position': [402, 403], 'text': 'Her father'}, {'position': [405, 405], 'text': 'himself'}, {'position': [765, 766], 'text': 'her father'}, {'position': [769, 769], 'text': 'he'}, {'position': [776, 776], 'text': 'He'}, {'position': [799, 800], 'text': 'Mr. Woodhouse'}, {'position': [810, 810], 'text': 'his'}, {'position': [821, 821], 'text': 'his'}, {'position': [831, 831], 'text': 'he'}, {'position': [851, 851], 'text': 'his'}, {'position': [854, 854], 'text': 'his'}, {'position': [858, 858], 'text': 'his'}, {'position': [864, 864], 'text': 'him'}, {'position': [1004, 1005], 'text': 'her father'}, {'position': [1052, 1053], 'text': 'her father'}, {'position': [1064, 1064], 'text': 'His'}, {'position': [1069, 1069], 'text': 'He'}, {'position': [1083, 1083], 'text': 'he'}, {'position': [1114, 1114], 'text': 'he'}, {'position': [1122, 1122], 'text': 'his'}, {'position': [1149, 1149], 'text': 'he'}, {'position': [1162, 1162], 'text': 'his'}, {'position': [1182, 1182], 'text': 'himself'}, {'position': [1184, 1184], 'text': 'he'}, {'position': [1238, 1238], 'text': 'him'}, {'position': [1252, 1252], 'text': 'him'}, {'position': [1258, 1258], 'text': 'he'}, {'position': [1270, 1270], 'text': 'I'}, {'position': [1297, 1297], 'text': 'you'}, {'position': [1299, 1299], 'text': 'papa'}, {'position': [1329, 1329], 'text': 'you'}, {'position': [1597, 1597], 'text': 'your'}, {'position': [1600, 1600], 'text': 'papa'}, {'position': [1602, 1602], 'text': 'You'}, {'position': [1614, 1614], 'text': 'you'}, {'position': [1623, 1623], 'text': 'you'}, {'position': [1627, 1627], 'text': 'I'}, {'position': [1631, 1631], 'text': 'I'}, {'position': [1643, 1643], 'text': 'I'}, {'position': [1658, 1658], 'text': 'I'}, {'position': [1677, 1677], 'text': 'I'}, {'position': [1686, 1686], 'text': 'I'}, {'position': [1695, 1695], 'text': 'me'}, {'position': [1697, 1697], 'text': 'I'}, {'position': [1717, 1717], 'text': 'I'}, {'position': [1735, 1735], 'text': 'I'}, {'position': [1822, 1823], 'text': 'her father'}, {'position': [1969, 1970], 'text': 'Mr. Woodhouse'}, {'position': [2010, 2011], 'text': 'Mr. Woodhouse'}, {'position': [2038, 2038], 'text': 'I'}], 'name': 'her father'}, {'mentions': [{'position': [89, 90], 'text': 'Her mother'}, {'position': [106, 106], 'text': 'her'}, {'position': [110, 110], 'text': 'her'}], 'name': 'Her mother'}, {'mentions': [{'position': [116, 131], 'text': 'an excellent woman as governess , who had fallen little short of a mother in affection'}, {'position': [136, 137], 'text': 'Miss Taylor'}, {'position': [176, 177], 'text': 'Miss Taylor'}, {'position': [191, 191], 'text': 'her'}, {'position': [196, 196], 'text': 'her'}, {'position': [236, 238], 'text': \"Miss Taylor 's\"}, {'position': [337, 338], 'text': 'Miss Taylor'}, {'position': [357, 359], 'text': 'this beloved friend'}, {'position': [437, 438], 'text': 'her friend'}, {'position': [495, 496], 'text': 'Miss Taylor'}, {'position': [508, 508], 'text': 'her'}, {'position': [522, 522], 'text': 'she'}, {'position': [527, 527], 'text': 'she'}, {'position': [531, 531], 'text': 'her'}, {'position': [538, 538], 'text': 'she'}, {'position': [542, 542], 'text': 'her'}, {'position': [548, 548], 'text': 'her'}, {'position': [555, 555], 'text': 'her'}, {'position': [591, 592], 'text': \"Isabella 's\"}, {'position': [611, 611], 'text': 'She'}, {'position': [649, 649], 'text': 'herself'}, {'position': [658, 658], 'text': 'hers'}, {'position': [663, 663], 'text': 'she'}, {'position': [679, 679], 'text': 'her'}, {'position': [699, 700], 'text': 'her friend'}, {'position': [919, 919], 'text': 'Isabella'}, {'position': [921, 921], 'text': 'her'}, {'position': [1022, 1023], 'text': 'Miss Taylor'}, {'position': [1156, 1157], 'text': 'Miss Taylor'}, {'position': [1191, 1192], 'text': 'Miss Taylor'}, {'position': [1200, 1200], 'text': 'herself'}, {'position': [1214, 1214], 'text': 'she'}, {'position': [1221, 1221], 'text': 'her'}, {'position': [1265, 1267], 'text': 'Poor Miss Taylor'}, {'position': [1272, 1272], 'text': 'she'}, {'position': [1288, 1288], 'text': 'her'}, {'position': [1334, 1335], 'text': 'Miss Taylor'}, {'position': [1350, 1350], 'text': 'she'}, {'position': [1356, 1356], 'text': 'her'}, {'position': [1364, 1364], 'text': 'her'}, {'position': [1377, 1377], 'text': 'her'}, {'position': [1753, 1755], 'text': 'poor Miss Taylor'}, {'position': [1760, 1760], 'text': 'her'}, {'position': [1762, 1762], 'text': 'she'}, {'position': [1822, 1822], 'text': 'her'}, {'position': [1836, 1836], 'text': 'her'}, {'position': [1891, 1892], 'text': \"Isabella 's\"}, {'position': [1993, 1996], 'text': '“ poor Isabella ”'}, {'position': [1998, 1998], 'text': 'her'}], 'name': 'Miss Taylor'}, {'mentions': [{'position': [73, 75], 'text': \"her sister 's\"}, {'position': [156, 157], 'text': 'both daughters'}], 'name': \"her sister 's\"}, {'mentions': [{'position': [282, 282], 'text': 'these'}, {'position': [306, 306], 'text': 'they'}], 'name': 'these'}, {'mentions': [{'position': [213, 213], 'text': 'they'}, {'position': [596, 596], 'text': 'their'}], 'name': None}, {'mentions': [{'position': [140, 143], 'text': \"Mr. Woodhouse 's family\"}, {'position': [636, 637], 'text': 'the family'}, {'position': [642, 642], 'text': 'its'}, {'position': [1877, 1878], 'text': 'the family'}, {'position': [1884, 1884], 'text': 'it'}, {'position': [2036, 2036], 'text': 'us'}], 'name': 'the family'}, {'mentions': [{'position': [708, 708], 'text': 'them'}, {'position': [730, 730], 'text': 'them'}, {'position': [795, 795], 'text': 'their'}], 'name': None}, {'mentions': [{'position': [81, 82], 'text': 'his house'}, {'position': [737, 738], 'text': 'the house'}, {'position': [931, 932], 'text': 'the house'}], 'name': 'the house'}, {'mentions': [{'position': [883, 888], 'text': 'London , only sixteen miles off'}, {'position': [910, 910], 'text': 'Hartfield'}, {'position': [957, 957], 'text': 'Hartfield'}, {'position': [962, 962], 'text': 'its'}, {'position': [1000, 1001], 'text': 'the place'}, {'position': [1224, 1224], 'text': 'Hartfield'}, {'position': [1929, 1929], 'text': 'London'}, {'position': [1950, 1950], 'text': 'Hartfield'}], 'name': 'Hartfield'}, {'mentions': [{'position': [919, 922], 'text': 'Isabella and her husband'}, {'position': [925, 925], 'text': 'their'}], 'name': 'Isabella and her husband'}, {'mentions': [{'position': [981, 982], 'text': 'The Woodhouses'}, {'position': [993, 993], 'text': 'them'}], 'name': 'The Woodhouses'}, {'mentions': [{'position': [997, 1001], 'text': 'many acquaintance in the place'}, {'position': [1014, 1014], 'text': 'them'}], 'name': 'many acquaintance in the place'}, {'mentions': [{'position': [1030, 1030], 'text': 'It'}, {'position': [1043, 1043], 'text': 'it'}], 'name': None}, {'mentions': [{'position': [1080, 1086], 'text': 'every body that he was used to'}, {'position': [1093, 1093], 'text': 'them'}], 'name': 'every body that he was used to'}, {'mentions': [{'position': [440, 441], 'text': 'Mr. Weston'}, {'position': [1283, 1284], 'text': 'Mr. Weston'}, {'position': [1307, 1308], 'text': 'Mr. Weston'}, {'position': [1320, 1320], 'text': 'he'}, {'position': [1529, 1531], 'text': \"Mr. Weston 's\"}, {'position': [1551, 1552], 'text': 'Mr. Weston'}], 'name': 'Mr. Weston'}, {'mentions': [{'position': [1407, 1407], 'text': 'them'}, {'position': [1410, 1410], 'text': 'they'}], 'name': None}, {'mentions': [{'position': [1401, 1401], 'text': 'we'}, {'position': [1414, 1414], 'text': 'us'}, {'position': [1417, 1417], 'text': 'We'}, {'position': [1427, 1427], 'text': 'we'}, {'position': [1474, 1474], 'text': 'We'}, {'position': [1515, 1515], 'text': 'we'}, {'position': [1518, 1518], 'text': 'our'}, {'position': [1591, 1591], 'text': 'us'}, {'position': [1785, 1785], 'text': 'us'}, {'position': [1795, 1796], 'text': 'we all'}], 'name': 'we all'}, {'mentions': [{'position': [1458, 1458], 'text': 'walk'}, {'position': [1471, 1472], 'text': 'your walking'}], 'name': 'walk'}, {'mentions': [{'position': [1478, 1479], 'text': 'the carriage'}, {'position': [1486, 1488], 'text': 'The carriage !'}], 'name': 'the carriage'}, {'mentions': [{'position': [1496, 1497], 'text': 'the horses'}, {'position': [1509, 1511], 'text': 'the poor horses'}, {'position': [1523, 1523], 'text': 'They'}], 'name': 'the horses'}, {'mentions': [{'position': [1432, 1433], 'text': 'wedding visit'}, {'position': [1518, 1519], 'text': 'our visit'}], 'name': 'wedding visit'}, {'mentions': [{'position': [1490, 1490], 'text': 'James'}, {'position': [1559, 1559], 'text': 'James'}, {'position': [1566, 1566], 'text': 'he'}, {'position': [1576, 1576], 'text': 'his'}, {'position': [1587, 1587], 'text': 'he'}, {'position': [1618, 1618], 'text': 'James'}, {'position': [1648, 1649], 'text': 'poor James'}, {'position': [1651, 1651], 'text': 'himself'}, {'position': [1769, 1769], 'text': 'James'}, {'position': [1774, 1774], 'text': 'his'}, {'position': [1787, 1787], 'text': 'He'}], 'name': 'James'}, {'mentions': [{'position': [1449, 1449], 'text': 'Randalls'}, {'position': [1572, 1572], 'text': 'Randalls'}], 'name': 'Randalls'}, {'mentions': [{'position': [1722, 1726], 'text': 'the lock of the door'}, {'position': [1733, 1733], 'text': 'it'}], 'name': 'the lock of the door'}, {'mentions': [{'position': [1845, 1846], 'text': 'a visitor'}, {'position': [1895, 1895], 'text': 'He'}, {'position': [1931, 1931], 'text': 'He'}, {'position': [1975, 1976], 'text': 'Mr. Knightley'}, {'position': [1985, 1985], 'text': 'him'}, {'position': [1989, 1989], 'text': 'his'}, {'position': [2021, 2021], 'text': 'you'}, {'position': [2023, 2024], 'text': 'Mr. Knightley'}, {'position': [2041, 2041], 'text': 'you'}], 'name': 'Mr. Knightley'}]\n",
      "[{'mentions': [{'position': [36, 38], 'text': 'such a man'}, {'position': [42, 42], 'text': 'his'}, {'position': [63, 63], 'text': 'he'}], 'name': 'such a man'}, {'mentions': [{'position': [58, 60], 'text': 'the surrounding families'}, {'position': [75, 75], 'text': 'their'}], 'name': 'the surrounding families'}, {'mentions': [{'position': [79, 82], 'text': 'My dear Mr. Bennet'}, {'position': [86, 86], 'text': 'his'}, {'position': [89, 89], 'text': 'him'}, {'position': [95, 95], 'text': 'you'}, {'position': [106, 107], 'text': 'Mr. Bennet'}, {'position': [110, 110], 'text': 'he'}, {'position': [135, 135], 'text': 'me'}, {'position': [140, 141], 'text': 'Mr. Bennet'}, {'position': [148, 148], 'text': 'you'}, {'position': [160, 160], 'text': 'his'}, {'position': [169, 169], 'text': 'me'}, {'position': [172, 172], 'text': 'I'}, {'position': [188, 189], 'text': 'my dear'}, {'position': [191, 191], 'text': 'you'}, {'position': [339, 342], 'text': 'My dear Mr. Bennet'}, {'position': [346, 346], 'text': 'his'}, {'position': [352, 352], 'text': 'you'}, {'position': [357, 357], 'text': 'You'}, {'position': [388, 388], 'text': 'you'}, {'position': [410, 410], 'text': 'you'}, {'position': [421, 421], 'text': 'I'}, {'position': [428, 428], 'text': 'You'}, {'position': [436, 436], 'text': 'you'}, {'position': [452, 452], 'text': 'you'}, {'position': [461, 462], 'text': 'Mr. Bingley'}, {'position': [465, 465], 'text': 'you'}, {'position': [473, 473], 'text': 'My'}, {'position': [473, 474], 'text': 'My dear'}, {'position': [476, 476], 'text': 'you'}, {'position': [478, 478], 'text': 'me'}, {'position': [480, 480], 'text': 'I'}, {'position': [484, 484], 'text': 'my'}, {'position': [490, 490], 'text': 'I'}, {'position': [538, 539], 'text': 'my dear'}, {'position': [541, 541], 'text': 'you'}, {'position': [547, 548], 'text': 'Mr. Bingley'}, {'position': [550, 550], 'text': 'he'}, {'position': [561, 561], 'text': 'I'}, {'position': [565, 565], 'text': 'I'}, {'position': [567, 567], 'text': 'you.'}, {'position': [572, 572], 'text': 'your'}, {'position': [616, 616], 'text': 'you'}, {'position': [629, 629], 'text': 'him'}, {'position': [631, 631], 'text': 'you'}, {'position': [636, 636], 'text': 'You'}, {'position': [642, 642], 'text': 'I'}, {'position': [645, 646], 'text': 'Mr. Bingley'}, {'position': [653, 653], 'text': 'you'}, {'position': [656, 656], 'text': 'I'}, {'position': [663, 663], 'text': 'you'}, {'position': [666, 666], 'text': 'him'}, {'position': [668, 668], 'text': 'my'}, {'position': [672, 672], 'text': 'his'}, {'position': [675, 675], 'text': 'he'}, {'position': [682, 682], 'text': 'I'}, {'position': [690, 690], 'text': 'my'}, {'position': [695, 695], 'text': 'I'}, {'position': [697, 697], 'text': 'you'}, {'position': [715, 715], 'text': 'I'}, {'position': [735, 735], 'text': 'you'}, {'position': [756, 756], 'text': 'he'}, {'position': [787, 787], 'text': 'you'}, {'position': [789, 789], 'text': 'your'}, {'position': [797, 797], 'text': 'You'}, {'position': [802, 802], 'text': 'me'}, {'position': [804, 804], 'text': 'You'}, {'position': [809, 809], 'text': 'my'}, {'position': [814, 814], 'text': 'You'}, {'position': [816, 816], 'text': 'me'}, {'position': [818, 818], 'text': 'my'}, {'position': [818, 819], 'text': 'my dear'}, {'position': [821, 821], 'text': 'I'}, {'position': [827, 827], 'text': 'your'}, {'position': [832, 832], 'text': 'my'}, {'position': [836, 836], 'text': 'I'}, {'position': [839, 839], 'text': 'you'}, {'position': [854, 854], 'text': 'you'}, {'position': [859, 859], 'text': 'I'}, {'position': [864, 864], 'text': 'I'}, {'position': [866, 866], 'text': 'you'}, {'position': [905, 905], 'text': 'you'}, {'position': [916, 916], 'text': 'my'}, {'position': [916, 917], 'text': 'my dear'}, {'position': [925, 925], 'text': 'I'}, {'position': [931, 932], 'text': 'Mr. Bennet'}, {'position': [961, 961], 'text': 'his'}, {'position': [964, 964], 'text': 'his'}, {'position': [1021, 1022], 'text': 'Mr. Bennet'}, {'position': [1032, 1033], 'text': 'Mr. Bingley'}, {'position': [1035, 1035], 'text': 'He'}, {'position': [1041, 1041], 'text': 'him'}, {'position': [1049, 1049], 'text': 'his'}, {'position': [1052, 1052], 'text': 'he'}, {'position': [1083, 1083], 'text': 'his'}, {'position': [1092, 1092], 'text': 'he'}, {'position': [1099, 1099], 'text': 'I'}, {'position': [1101, 1102], 'text': 'Mr. Bingley'}, {'position': [1119, 1120], 'text': 'Mr. Bingley'}, {'position': [1153, 1153], 'text': 'him'}, {'position': [1208, 1208], 'text': 'I'}, {'position': [1212, 1213], 'text': 'Mr. Bennet'}, {'position': [1217, 1217], 'text': 'I'}, {'position': [1223, 1223], 'text': 'you'}, {'position': [1232, 1233], 'text': 'Mrs. Bennet'}, {'position': [1294, 1295], 'text': 'her father'}, {'position': [1321, 1321], 'text': 'your'}, {'position': [1368, 1368], 'text': 'him'}, {'position': [1375, 1375], 'text': 'him'}, {'position': [1381, 1381], 'text': 'my'}, {'position': [1381, 1382], 'text': 'my dear'}, {'position': [1384, 1384], 'text': 'you'}, {'position': [1390, 1390], 'text': 'your'}, {'position': [1395, 1396], 'text': 'Mr. Bingley'}, {'position': [1403, 1404], 'text': 'Mr. Bennet'}, {'position': [1409, 1409], 'text': 'I'}, {'position': [1414, 1414], 'text': 'him'}, {'position': [1415, 1415], 'text': 'myself'}, {'position': [1419, 1419], 'text': 'you'}, {'position': [1426, 1426], 'text': 'I'}, {'position': [1428, 1428], 'text': 'your'}, {'position': [1495, 1495], 'text': 'you'}, {'position': [1500, 1500], 'text': 'I'}, {'position': [1505, 1505], 'text': 'myself.'}, {'position': [1511, 1512], 'text': 'their father'}, {'position': [1514, 1515], 'text': 'Mrs. Bennet'}, {'position': [1538, 1538], 'text': 'he'}, {'position': [1542, 1542], 'text': 'you'}, {'position': [1561, 1561], 'text': 'I'}, {'position': [1567, 1567], 'text': 'you'}, {'position': [1572, 1572], 'text': 'you'}, {'position': [1574, 1574], 'text': 'Mary'}, {'position': [1577, 1577], 'text': 'you'}, {'position': [1586, 1586], 'text': 'I'}, {'position': [1597, 1597], 'text': 'Mary'}, {'position': [1611, 1611], 'text': 'Mary'}, {'position': [1614, 1614], 'text': 'her'}, {'position': [1618, 1618], 'text': 'he'}, {'position': [1626, 1627], 'text': 'Mr. Bingley.'}, {'position': [1634, 1635], 'text': 'Mr. Bingley'}, {'position': [1639, 1639], 'text': 'his'}, {'position': [1654, 1654], 'text': 'you'}, {'position': [1675, 1675], 'text': 'him'}, {'position': [1707, 1707], 'text': 'he'}, {'position': [1712, 1713], 'text': 'Mrs. Bennet'}, {'position': [1730, 1730], 'text': 'she'}, {'position': [1738, 1738], 'text': 'she'}, {'position': [1751, 1751], 'text': 'you'}, {'position': [1753, 1756], 'text': 'my dear Mr. Bennet'}, {'position': [1764, 1764], 'text': 'you'}, {'position': [1771, 1771], 'text': 'you'}, {'position': [1773, 1773], 'text': 'your'}, {'position': [1801, 1801], 'text': 'you'}, {'position': [1833, 1834], 'text': 'Mr. Bennet'}, {'position': [1839, 1839], 'text': 'he'}, {'position': [1842, 1842], 'text': 'he'}, {'position': [1852, 1852], 'text': 'his'}, {'position': [1885, 1885], 'text': 'him'}, {'position': [1888, 1888], 'text': 'his'}, {'position': [1911, 1911], 'text': 'I'}, {'position': [1936, 1936], 'text': 'my'}, {'position': [1945, 1945], 'text': 'I'}, {'position': [1948, 1949], 'text': 'Mr. Bingley'}], 'name': 'Mr. Bingley'}, {'mentions': [{'position': [98, 99], 'text': 'Netherfield Park'}, {'position': [116, 116], 'text': 'it'}, {'position': [156, 156], 'text': 'it'}, {'position': [199, 199], 'text': 'Netherfield'}, {'position': [228, 229], 'text': 'the place'}, {'position': [237, 237], 'text': 'it'}], 'name': 'Netherfield Park'}, {'mentions': [{'position': [79, 79], 'text': 'My'}, {'position': [121, 121], 'text': 'she'}, {'position': [160, 161], 'text': 'his wife'}, {'position': [188, 188], 'text': 'my'}, {'position': [297, 297], 'text': 'my'}, {'position': [339, 339], 'text': 'My'}, {'position': [346, 347], 'text': 'his wife'}, {'position': [361, 361], 'text': 'I'}, {'position': [538, 538], 'text': 'my'}, {'position': [961, 962], 'text': 'his wife'}, {'position': [975, 975], 'text': 'She'}, {'position': [991, 991], 'text': 'she'}, {'position': [995, 995], 'text': 'she'}, {'position': [997, 997], 'text': 'herself'}, {'position': [1003, 1003], 'text': 'her'}, {'position': [1008, 1008], 'text': 'her'}, {'position': [1049, 1050], 'text': 'his wife'}, {'position': [1066, 1066], 'text': 'she'}, {'position': [1125, 1126], 'text': 'her mother'}, {'position': [1139, 1139], 'text': 'you'}, {'position': [1142, 1142], 'text': 'mamma'}, {'position': [1168, 1168], 'text': 'I'}, {'position': [1197, 1197], 'text': 'I'}, {'position': [1246, 1246], 'text': 'herself'}, {'position': [1252, 1252], 'text': 'her'}, {'position': [1274, 1274], 'text': 'my'}, {'position': [1343, 1344], 'text': 'her mother'}, {'position': [1630, 1630], 'text': 'I'}, {'position': [1639, 1640], 'text': 'his wife'}, {'position': [1643, 1643], 'text': 'I'}, {'position': [1656, 1656], 'text': 'me'}, {'position': [1661, 1661], 'text': 'I'}, {'position': [1668, 1668], 'text': 'I'}, {'position': [1684, 1684], 'text': 'I'}, {'position': [1753, 1753], 'text': 'my'}, {'position': [1759, 1759], 'text': 'I'}, {'position': [1761, 1761], 'text': 'I'}, {'position': [1768, 1768], 'text': 'I'}, {'position': [1787, 1787], 'text': 'I'}, {'position': [1852, 1853], 'text': 'his wife'}, {'position': [1867, 1867], 'text': 'she'}, {'position': [1876, 1876], 'text': 'I'}, {'position': [1892, 1892], 'text': 'me'}], 'name': 'his wife'}, {'mentions': [{'position': [125, 126], 'text': 'Mrs. Long'}, {'position': [133, 133], 'text': 'she'}, {'position': [195, 196], 'text': 'Mrs. Long'}, {'position': [1160, 1161], 'text': 'Mrs. Long'}, {'position': [1172, 1173], 'text': 'Mrs. Long'}, {'position': [1180, 1180], 'text': 'She'}, {'position': [1185, 1185], 'text': 'her'}, {'position': [1188, 1188], 'text': 'She'}, {'position': [1202, 1202], 'text': 'her.'}, {'position': [1228, 1228], 'text': 'her'}, {'position': [1348, 1349], 'text': 'Mrs. Long'}, {'position': [1365, 1365], 'text': 'her'}, {'position': [1371, 1371], 'text': 'she'}, {'position': [1390, 1391], 'text': 'your friend'}, {'position': [1470, 1471], 'text': 'Mrs. Long'}, {'position': [1473, 1473], 'text': 'her'}, {'position': [1485, 1485], 'text': 'she'}], 'name': 'Mrs. Long'}, {'mentions': [{'position': [203, 213], 'text': 'a young man of large fortune from the north of England'}, {'position': [216, 216], 'text': 'he'}, {'position': [240, 240], 'text': 'he'}, {'position': [248, 248], 'text': 'he'}, {'position': [259, 259], 'text': 'his'}, {'position': [277, 277], 'text': 'his'}, {'position': [286, 286], 'text': 'he'}, {'position': [304, 317], 'text': 'A single man of large fortune ; four or five thousand a year .'}, {'position': [365, 365], 'text': 'his'}, {'position': [374, 374], 'text': 'his'}, {'position': [398, 398], 'text': 'he'}, {'position': [413, 413], 'text': 'him'}, {'position': [417, 417], 'text': 'he'}], 'name': 'a young man of large fortune from the north of England'}, {'mentions': [{'position': [323, 324], 'text': 'our girls'}, {'position': [335, 335], 'text': 'them'}, {'position': [406, 406], 'text': 'them'}, {'position': [430, 431], 'text': 'the girls'}, {'position': [439, 439], 'text': 'them'}, {'position': [441, 441], 'text': 'themselves'}, {'position': [459, 459], 'text': 'them'}, {'position': [572, 573], 'text': 'your daughters'}, {'position': [586, 586], 'text': 'them'}, {'position': [678, 679], 'text': 'the girls'}, {'position': [1008, 1009], 'text': 'her daughters'}, {'position': [1507, 1508], 'text': 'The girls'}, {'position': [1511, 1511], 'text': 'their'}, {'position': [1702, 1703], 'text': 'the ladies'}, {'position': [1773, 1774], 'text': 'your girls'}, {'position': [1860, 1860], 'text': 'you'}, {'position': [1863, 1863], 'text': 'girls'}, {'position': [1881, 1881], 'text': 'you'}, {'position': [1914, 1914], 'text': 'you'}, {'position': [1926, 1926], 'text': 'your'}], 'name': 'the girls'}, {'mentions': [{'position': [412, 412], 'text': 'visit'}, {'position': [426, 426], 'text': 'that'}], 'name': 'visit'}, {'mentions': [{'position': [501, 502], 'text': 'a woman'}, {'position': [508, 508], 'text': 'she'}, {'position': [515, 515], 'text': 'her'}], 'name': 'a woman'}, {'mentions': [{'position': [544, 544], 'text': 'go'}, {'position': [557, 557], 'text': 'It'}], 'name': 'go'}, {'mentions': [{'position': [588, 592], 'text': 'Sir William and Lady Lucas'}, {'position': [610, 610], 'text': 'they'}], 'name': 'Sir William and Lady Lucas'}, {'mentions': [{'position': [690, 692], 'text': 'my little Lizzy.'}, {'position': [704, 704], 'text': 'Lizzy'}, {'position': [718, 718], 'text': 'she'}, {'position': [770, 770], 'text': 'Lizzy'}, {'position': [777, 777], 'text': 'her'}, {'position': [1083, 1085], 'text': 'his second daughter'}, {'position': [1095, 1095], 'text': 'her'}, {'position': [1107, 1107], 'text': 'Lizzy.'}, {'position': [1125, 1125], 'text': 'her'}, {'position': [1146, 1146], 'text': 'Elizabeth'}, {'position': [1327, 1327], 'text': 'Lizzy'}, {'position': [1934, 1934], 'text': 'Lydia'}, {'position': [1940, 1940], 'text': 'you'}, {'position': [1953, 1953], 'text': 'you'}], 'name': 'Lizzy'}, {'mentions': [{'position': [711, 712], 'text': 'the others'}, {'position': [744, 744], 'text': 'They'}, {'position': [752, 752], 'text': 'them'}, {'position': [759, 759], 'text': 'they'}], 'name': 'the others'}, {'mentions': [{'position': [809, 811], 'text': 'my poor nerves.'}, {'position': [827, 828], 'text': 'your nerves'}, {'position': [830, 830], 'text': 'They'}, {'position': [841, 841], 'text': 'them'}], 'name': 'my poor nerves.'}, {'mentions': [{'position': [323, 323], 'text': 'our'}, {'position': [896, 896], 'text': 'us'}, {'position': [1901, 1901], 'text': 'our'}, {'position': [1929, 1929], 'text': 'we'}], 'name': None}, {'mentions': [{'position': [1000, 1004], 'text': 'The business of her life'}, {'position': [1012, 1012], 'text': 'its'}], 'name': 'The business of her life'}, {'mentions': [{'position': [1040, 1040], 'text': 'visit'}, {'position': [1062, 1063], 'text': 'the visit'}, {'position': [1071, 1071], 'text': 'it'}, {'position': [1073, 1073], 'text': 'It'}, {'position': [1105, 1105], 'text': 'it'}, {'position': [1688, 1689], 'text': 'the visit'}], 'name': 'the visit'}, {'mentions': [{'position': [1131, 1131], 'text': 'we'}, {'position': [1150, 1150], 'text': 'we'}], 'name': None}, {'mentions': [{'position': [1250, 1253], 'text': 'one of her daughters'}, {'position': [1262, 1262], 'text': 'Kitty'}, {'position': [1277, 1277], 'text': 'You'}, {'position': [1284, 1284], 'text': 'Kitty'}, {'position': [1289, 1289], 'text': 'her'}, {'position': [1294, 1294], 'text': 'her'}, {'position': [1298, 1298], 'text': 'she'}, {'position': [1304, 1304], 'text': 'I'}, {'position': [1309, 1309], 'text': 'my'}, {'position': [1315, 1315], 'text': 'Kitty'}, {'position': [1343, 1343], 'text': 'her'}, {'position': [1820, 1820], 'text': 'Kitty'}, {'position': [1822, 1822], 'text': 'you'}, {'position': [1828, 1828], 'text': 'you'}], 'name': 'Kitty'}, {'mentions': [{'position': [1274, 1275], 'text': 'my nerves'}, {'position': [1279, 1279], 'text': 'them'}, {'position': [1300, 1300], 'text': 'them'}], 'name': 'my nerves'}, {'mentions': [{'position': [1470, 1474], 'text': 'Mrs. Long and her neices'}, {'position': [1477, 1477], 'text': 'their'}], 'name': 'Mrs. Long and her neices'}, {'mentions': [{'position': [1497, 1498], 'text': 'the office'}, {'position': [1503, 1503], 'text': 'it'}], 'name': 'the office'}, {'mentions': [{'position': [1544, 1547], 'text': 'the forms of introduction'}, {'position': [1556, 1556], 'text': 'them'}], 'name': 'the forms of introduction'}, {'mentions': [{'position': [1666, 1667], 'text': 'this morning'}, {'position': [1805, 1806], 'text': 'this morning'}], 'name': 'this morning'}]\n",
      "[{'mentions': [{'position': [1, 6], 'text': 'The Nellie , a cruising yawl'}, {'position': [10, 10], 'text': 'her'}, {'position': [46, 46], 'text': 'it'}], 'name': 'The Nellie , a cruising yawl'}, {'mentions': [{'position': [67, 67], 'text': 'us'}, {'position': [178, 178], 'text': 'our'}, {'position': [181, 181], 'text': 'our'}, {'position': [184, 185], 'text': 'We four'}, {'position': [252, 252], 'text': 'us'}, {'position': [271, 271], 'text': 'our'}, {'position': [286, 286], 'text': 'us'}, {'position': [413, 413], 'text': 'us'}, {'position': [415, 415], 'text': 'We'}, {'position': [436, 436], 'text': 'we'}, {'position': [445, 445], 'text': 'We'}, {'position': [670, 670], 'text': 'We'}, {'position': [1138, 1138], 'text': 'us'}], 'name': 'We four'}, {'mentions': [{'position': [173, 176], 'text': 'The Director of Companies'}, {'position': [188, 188], 'text': 'his'}, {'position': [191, 191], 'text': 'he'}, {'position': [213, 213], 'text': 'He'}, {'position': [231, 231], 'text': 'his'}, {'position': [244, 244], 'text': 'him'}, {'position': [395, 396], 'text': 'The director'}, {'position': [406, 406], 'text': 'his'}], 'name': 'The Director of Companies'}, {'mentions': [{'position': [39, 40], 'text': 'the river'}, {'position': [201, 203], 'text': 'the whole river'}], 'name': 'the river'}, {'mentions': [{'position': [0, 0], 'text': 'I'}, {'position': [257, 257], 'text': 'I'}], 'name': None}, {'mentions': [{'position': [263, 267], 'text': 'the bond of the sea'}, {'position': [280, 280], 'text': 'it'}], 'name': 'the bond of the sea'}, {'mentions': [{'position': [297, 305], 'text': 'The Lawyer -- the best of old fellows --'}, {'position': [310, 310], 'text': 'his'}], 'name': 'The Lawyer -- the best of old fellows --'}, {'mentions': [{'position': [350, 350], 'text': 'Marlow'}, {'position': [361, 361], 'text': 'He'}, {'position': [381, 381], 'text': 'his'}, {'position': [1117, 1117], 'text': 'Marlow'}, {'position': [1132, 1132], 'text': 'He'}, {'position': [1153, 1153], 'text': 'him'}, {'position': [1156, 1156], 'text': 'he'}, {'position': [1160, 1160], 'text': 'his'}, {'position': [1163, 1163], 'text': 'He'}, {'position': [1169, 1169], 'text': 'he'}, {'position': [1366, 1366], 'text': 'Marlow'}, {'position': [1372, 1372], 'text': 'his'}, {'position': [1383, 1383], 'text': 'him'}, {'position': [1435, 1435], 'text': 'His'}, {'position': [1448, 1448], 'text': 'Marlow'}, {'position': [1467, 1467], 'text': 'he'}, {'position': [1474, 1474], 'text': 'I'}, {'position': [1506, 1506], 'text': 'you'}], 'name': 'Marlow'}, {'mentions': [{'position': [547, 548], 'text': 'the sun'}, {'position': [555, 555], 'text': 'its'}, {'position': [561, 562], 'text': 'the sun'}, {'position': [1022, 1023], 'text': 'The sun'}], 'name': 'the sun'}, {'mentions': [{'position': [521, 532], 'text': 'Only the gloom to the west , brooding over the upper reaches'}, {'position': [596, 603], 'text': 'that gloom brooding over a crowd of men'}], 'name': 'Only the gloom to the west , brooding over the upper reaches'}, {'mentions': [{'position': [623, 629], 'text': 'The old river in its broad reach'}, {'position': [627, 627], 'text': 'its'}, {'position': [649, 649], 'text': 'its'}, {'position': [673, 675], 'text': 'the venerable stream'}, {'position': [958, 959], 'text': 'that stream'}, {'position': [996, 997], 'text': 'that river'}, {'position': [1030, 1031], 'text': 'the stream'}, {'position': [1502, 1503], 'text': 'this river'}, {'position': [1679, 1680], 'text': 'this river'}], 'name': 'its'}, {'mentions': [{'position': [171, 171], 'text': 'earth'}, {'position': [667, 668], 'text': 'the earth'}], 'name': 'earth'}, {'mentions': [{'position': [63, 64], 'text': 'the Thames'}, {'position': [741, 742], 'text': 'the Thames'}], 'name': 'the Thames'}, {'mentions': [{'position': [744, 746], 'text': 'The tidal current'}, {'position': [752, 752], 'text': 'its'}, {'position': [763, 763], 'text': 'it'}, {'position': [779, 779], 'text': 'It'}, {'position': [817, 817], 'text': 'It'}, {'position': [877, 877], 'text': 'that'}, {'position': [881, 881], 'text': 'It'}], 'name': 'The tidal current'}, {'mentions': [{'position': [719, 720], 'text': 'the sea'}, {'position': [776, 777], 'text': 'the sea'}, {'position': [814, 815], 'text': 'the sea'}, {'position': [1229, 1230], 'text': 'the sea'}, {'position': [1284, 1299], 'text': 'the sea itself , which is the mistress of his existence and as inscrutable as Destiny'}, {'position': [1286, 1286], 'text': 'itself'}], 'name': 'the sea'}, {'mentions': [{'position': [890, 890], 'text': 'They'}, {'position': [952, 953], 'text': 'they all'}, {'position': [1774, 1774], 'text': 'They'}, {'position': [1825, 1825], 'text': 'They'}], 'name': 'they all'}, {'mentions': [{'position': [1177, 1178], 'text': 'most seamen'}, {'position': [1192, 1192], 'text': 'Their'}, {'position': [1201, 1201], 'text': 'their'}, {'position': [1206, 1206], 'text': 'them'}, {'position': [1214, 1214], 'text': 'their'}, {'position': [1240, 1240], 'text': 'their'}], 'name': 'most seamen'}, {'mentions': [{'position': [1279, 1280], 'text': 'a seaman'}, {'position': [1293, 1293], 'text': 'his'}, {'position': [1306, 1306], 'text': 'his'}, {'position': [1324, 1324], 'text': 'him'}, {'position': [1334, 1334], 'text': 'he'}], 'name': 'a seaman'}, {'mentions': [{'position': [1325, 1330], 'text': 'the secret of a whole continent'}, {'position': [1336, 1337], 'text': 'the secret'}], 'name': 'the secret of a whole continent'}, {'mentions': [{'position': [1384, 1388], 'text': 'the meaning of an episode'}, {'position': [1403, 1403], 'text': 'it'}], 'name': 'the meaning of an episode'}, {'mentions': [{'position': [1435, 1436], 'text': 'His remark'}, {'position': [1444, 1444], 'text': 'It'}, {'position': [1450, 1450], 'text': 'It'}], 'name': 'His remark'}, {'mentions': [{'position': [1498, 1498], 'text': 'Light'}, {'position': [1513, 1513], 'text': 'it'}, {'position': [1535, 1536], 'text': 'the flicker'}, {'position': [1539, 1539], 'text': 'it'}], 'name': 'Light'}, {'mentions': [{'position': [1601, 1602], 'text': 'the legionaries'}, {'position': [1610, 1610], 'text': 'they'}], 'name': 'the legionaries'}, {'mentions': [{'position': [1641, 1641], 'text': 'him'}, {'position': [1787, 1787], 'text': 'he'}, {'position': [1815, 1815], 'text': 'he'}, {'position': [1820, 1820], 'text': 'his'}, {'position': [1836, 1836], 'text': 'he'}, {'position': [1841, 1841], 'text': 'his'}, {'position': [1858, 1858], 'text': 'he'}], 'name': None}, {'mentions': [{'position': [1789, 1789], 'text': 'it'}, {'position': [1792, 1792], 'text': 'it'}, {'position': [1806, 1806], 'text': 'it'}], 'name': None}, {'mentions': [{'position': [1908, 1908], 'text': 'his'}, {'position': [1937, 1937], 'text': 'him'}, {'position': [1972, 1972], 'text': 'He'}, {'position': [2001, 2001], 'text': 'him'}], 'name': None}, {'mentions': [{'position': [1980, 1986], 'text': 'the incomprehensible , which is also detestable'}, {'position': [1989, 1989], 'text': 'it'}], 'name': 'the incomprehensible , which is also detestable'}]\n"
     ]
    }
   ],
   "source": [
    "fileNames = get_file_names('../data/LitBank/corefs_allen/', '.p')\n",
    "\n",
    "for fileName in fileNames:\n",
    "\n",
    "    corefs = open_dict('../data/LitBank/corefs_allen/'+fileName+'.p')\n",
    "    if len(corefs['clusters']) < 30:\n",
    "        print(corefs['clusters'])"
   ]
  },
  {
   "cell_type": "code",
   "execution_count": 5,
   "metadata": {},
   "outputs": [
    {
     "data": {
      "text/plain": [
       "{'tokenizedDocument': ['CHAPTER',\n",
       "  'I',\n",
       "  'JONATHAN',\n",
       "  'HARKER',\n",
       "  \"'S\",\n",
       "  'JOURNAL',\n",
       "  '(',\n",
       "  '_Kept',\n",
       "  'in',\n",
       "  'shorthand._',\n",
       "  ')'],\n",
       " 'clusters': []}"
      ]
     },
     "execution_count": 5,
     "metadata": {},
     "output_type": "execute_result"
    }
   ],
   "source": [
    "corefs"
   ]
  },
  {
   "cell_type": "code",
   "execution_count": null,
   "metadata": {},
   "outputs": [],
   "source": []
  }
 ],
 "metadata": {
  "kernelspec": {
   "display_name": "Python 3.7.13 ('character-allennlp-4')",
   "language": "python",
   "name": "python3"
  },
  "language_info": {
   "codemirror_mode": {
    "name": "ipython",
    "version": 3
   },
   "file_extension": ".py",
   "mimetype": "text/x-python",
   "name": "python",
   "nbconvert_exporter": "python",
   "pygments_lexer": "ipython3",
   "version": "3.7.13"
  },
  "orig_nbformat": 4,
  "vscode": {
   "interpreter": {
    "hash": "9f08a002cfb74b2506f54e27c15b4b151c42a9fcd7b5ae0eaf4159402e8079c0"
   }
  }
 },
 "nbformat": 4,
 "nbformat_minor": 2
}
