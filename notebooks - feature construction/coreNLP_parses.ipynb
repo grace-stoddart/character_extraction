{
 "cells": [
  {
   "cell_type": "markdown",
   "metadata": {},
   "source": [
    "Run this notebook to produce CoreNLP parses. CoreNLP parses are required for the quotation feature (QU) and for the DP & TP Orig features "
   ]
  },
  {
   "cell_type": "code",
   "execution_count": 1,
   "metadata": {},
   "outputs": [],
   "source": [
    "import sys\n",
    "sys.path.append('../src')\n",
    "\n",
    "from misc import open_dict, save_dict, get_file_names, get_raw_text, token_map, get_raw_text_latin"
   ]
  },
  {
   "cell_type": "markdown",
   "metadata": {},
   "source": [
    "#### parse for quotations"
   ]
  },
  {
   "cell_type": "code",
   "execution_count": 2,
   "metadata": {},
   "outputs": [],
   "source": [
    "from stanza.server import CoreNLPClient\n",
    "def coreNLPParse_quotes(rawText, endpoint = 'http://localhost:9020'):\n",
    "    '''\n",
    "    Performs a Stanford CoreNLP parse of the raw text of a story, for use in semantic_subject(), dependencies() and triples()\n",
    "    Parameters:\n",
    "        raw text\n",
    "        local endpoint\n",
    "    Returns:\n",
    "        CoreNLP annotation object for the raw text\n",
    "    '''\n",
    "    with CoreNLPClient(\n",
    "        annotators=['quote'],\n",
    "        timeout=60000,\n",
    "        endpoint=endpoint,\n",
    "        memory='6G',\n",
    "        output_format='json',\n",
    "        be_quiet=True) as client:\n",
    "        ann = client.annotate(rawText)\n",
    "\n",
    "    return ann "
   ]
  },
  {
   "cell_type": "code",
   "execution_count": 12,
   "metadata": {},
   "outputs": [],
   "source": [
    "settings = {\n",
    "    # 'ProppLearner':{\n",
    "    #     'rawTextDir': '../data/ProppLearner/texts/', \n",
    "    #     'annSaveDir': '../intermediate/ProppLearner/parses/quotes/', \n",
    "    #     'latin':False},\n",
    "    'LitBank':{\n",
    "        'rawTextDir': '../data/LitBank/corefs_gold_brat/', \n",
    "        'annSaveDir': '../intermediate/LitBank/parses_shortened/quotes/', \n",
    "        'latin':False},\n",
    "    'CEN':{\n",
    "        'rawTextDir': '../data/CEN/texts/', \n",
    "        'annSaveDir': '../intermediate/CEN/parses/quotes/', \n",
    "        'latin':True},\n",
    "    }"
   ]
  },
  {
   "cell_type": "code",
   "execution_count": null,
   "metadata": {},
   "outputs": [],
   "source": [
    "for name, set in settings.items():\n",
    "\n",
    "    print(name,'started')\n",
    "\n",
    "    fileNames = get_file_names(set['rawTextDir'], '.txt')\n",
    "\n",
    "\n",
    "    fileNamesDone = get_file_names(set['annSaveDir'], '.p')\n",
    "\n",
    "    if set['latin']:\n",
    "        get_raw_text_function = get_raw_text_latin\n",
    "    else:\n",
    "        get_raw_text_function = get_raw_text\n",
    "\n",
    "\n",
    "    for fileName in fileNames:\n",
    "\n",
    "        if fileName in fileNamesDone:\n",
    "            print(fileName, 'already done')\n",
    "            continue\n",
    "\n",
    "\n",
    "        print('starting', fileName)\n",
    "        \n",
    "        rawText = get_raw_text_function(set['rawTextDir'] + fileName + '.txt')\n",
    "\n",
    "        ann = coreNLPParse_quotes(rawText)\n",
    "\n",
    "        save_dict(ann, set['annSaveDir'] + fileName + '.p')\n",
    "\n",
    "\n",
    "        print(fileName, 'finished')\n",
    "\n",
    "    print(name,'finished')\n"
   ]
  },
  {
   "cell_type": "markdown",
   "metadata": {},
   "source": [
    "### Parse for triples and dependencies"
   ]
  },
  {
   "cell_type": "code",
   "execution_count": 2,
   "metadata": {},
   "outputs": [],
   "source": [
    "from stanza.server import CoreNLPClient\n",
    "def coreNLPParse_quotes(rawText, endpoint = 'http://localhost:9020'):\n",
    "    '''\n",
    "    Performs a Stanford CoreNLP parse of the raw text of a story, for use in semantic_subject(), dependencies() and triples()\n",
    "    Parameters:\n",
    "        raw text\n",
    "        local endpoint\n",
    "    Returns:\n",
    "        CoreNLP annotation object for the raw text\n",
    "    '''\n",
    "    with CoreNLPClient(\n",
    "        annotators=['ssplit', 'depparse', 'openie'],\n",
    "        timeout=60000,\n",
    "        endpoint=endpoint,\n",
    "        memory='6G',\n",
    "        output_format='json',\n",
    "        be_quiet=True) as client:\n",
    "        ann = client.annotate(rawText)\n",
    "\n",
    "    return ann "
   ]
  },
  {
   "cell_type": "code",
   "execution_count": 3,
   "metadata": {},
   "outputs": [],
   "source": [
    "settings = {\n",
    "    # 'ProppLearner':{\n",
    "    #     'rawTextDir': '../data/ProppLearner/texts/', \n",
    "    #     'annSaveDir': '../intermediate/ProppLearner/parses/coreNLP/', \n",
    "    #     'latin':False},\n",
    "    'LitBank':{\n",
    "        'rawTextDir': '../data/LitBank/corefs_gold_brat/', \n",
    "        'annSaveDir': '../intermediate/LitBank/parses_shortened/coreNLP/', \n",
    "        'latin':False},\n",
    "    'CEN':{\n",
    "        'rawTextDir': '../data/CEN/texts/', \n",
    "        'annSaveDir': '../intermediate/CEN/parses/coreNLP/', \n",
    "        'latin':True},\n",
    "    }"
   ]
  },
  {
   "cell_type": "code",
   "execution_count": null,
   "metadata": {},
   "outputs": [],
   "source": [
    "for name, set in settings.items():\n",
    "\n",
    "    print(name,'started')\n",
    "\n",
    "    fileNames = get_file_names(set['rawTextDir'], '.txt')\n",
    "\n",
    "\n",
    "    fileNamesDone = get_file_names(set['annSaveDir'], '.p')\n",
    "\n",
    "    if set['latin']:\n",
    "        get_raw_text_function = get_raw_text_latin\n",
    "    else:\n",
    "        get_raw_text_function = get_raw_text\n",
    "\n",
    "\n",
    "    for fileName in fileNames:\n",
    "\n",
    "        if fileName in fileNamesDone:\n",
    "            print(fileName, 'already done')\n",
    "            continue\n",
    "\n",
    "\n",
    "        print('starting', fileName)\n",
    "        \n",
    "        rawText = get_raw_text_function(set['rawTextDir'] + fileName + '.txt')\n",
    "\n",
    "        ann = coreNLPParse_quotes(rawText)\n",
    "\n",
    "        save_dict(ann, set['annSaveDir'] + fileName + '.p')\n",
    "\n",
    "\n",
    "        print(fileName, 'finished')\n",
    "\n",
    "    print(name,'finished')"
   ]
  },
  {
   "cell_type": "markdown",
   "metadata": {},
   "source": [
    "### Parses for NER"
   ]
  },
  {
   "cell_type": "code",
   "execution_count": 2,
   "metadata": {},
   "outputs": [],
   "source": [
    "from stanza.server import CoreNLPClient\n",
    "def coreNLPParse_quotes(rawText, endpoint = 'http://localhost:9020'):\n",
    "    '''\n",
    "    Performs a Stanford CoreNLP parse of the raw text of a story, for use in semantic_subject(), dependencies() and triples()\n",
    "    Parameters:\n",
    "        raw text\n",
    "        local endpoint\n",
    "    Returns:\n",
    "        CoreNLP annotation object for the raw text\n",
    "    '''\n",
    "    with CoreNLPClient(\n",
    "        annotators=['ner'],\n",
    "        timeout=60000,\n",
    "        endpoint=endpoint,\n",
    "        memory='6G',\n",
    "        output_format='json',\n",
    "        be_quiet=True) as client:\n",
    "        ann = client.annotate(rawText)\n",
    "\n",
    "    return ann "
   ]
  },
  {
   "cell_type": "code",
   "execution_count": 3,
   "metadata": {},
   "outputs": [],
   "source": [
    "settings = {\n",
    "    'ProppLearner':{\n",
    "        'rawTextDir': '../data/ProppLearner/texts/', \n",
    "        'annSaveDir': '../intermediate/ProppLearner/parses/coreNLP_ner/', \n",
    "        'latin':False},\n",
    "    'LitBank':{\n",
    "        'rawTextDir': '../data/LitBank/corefs_gold_brat/', \n",
    "        'annSaveDir': '../intermediate/LitBank/parses_shortened/coreNLP_ner/', \n",
    "        'latin':False},\n",
    "    'CEN':{\n",
    "        'rawTextDir': '../data/CEN/texts/', \n",
    "        'annSaveDir': '../intermediate/CEN/parses/coreNLP_ner/', \n",
    "        'latin':True},\n",
    "    }"
   ]
  },
  {
   "cell_type": "code",
   "execution_count": null,
   "metadata": {},
   "outputs": [],
   "source": [
    "for name, set in settings.items():\n",
    "\n",
    "\n",
    "    fileNames = get_file_names(set['rawTextDir'], '.txt')\n",
    "\n",
    "\n",
    "    fileNamesDone = get_file_names(set['annSaveDir'], '.p')\n",
    "\n",
    "    if set['latin']:\n",
    "        get_raw_text_function = get_raw_text_latin\n",
    "    else:\n",
    "        get_raw_text_function = get_raw_text\n",
    "\n",
    "\n",
    "    for fileName in fileNames:\n",
    "\n",
    "        if fileName in fileNamesDone:\n",
    "            print(fileName, 'already done')\n",
    "            continue\n",
    "\n",
    "\n",
    "        print('starting', fileName)\n",
    "        \n",
    "        rawText = get_raw_text_function(set['rawTextDir'] + fileName + '.txt')\n",
    "\n",
    "        ann = coreNLPParse_quotes(rawText)\n",
    "\n",
    "        save_dict(ann, set['annSaveDir'] + fileName + '.p')\n",
    "\n",
    "\n",
    "        print(fileName, 'finished')\n",
    "\n",
    "    print(name,'finished')"
   ]
  },
  {
   "cell_type": "code",
   "execution_count": null,
   "metadata": {},
   "outputs": [],
   "source": []
  }
 ],
 "metadata": {
  "kernelspec": {
   "display_name": "Python 3.7.13 ('character-allennlp-4')",
   "language": "python",
   "name": "python3"
  },
  "language_info": {
   "codemirror_mode": {
    "name": "ipython",
    "version": 3
   },
   "file_extension": ".py",
   "mimetype": "text/x-python",
   "name": "python",
   "nbconvert_exporter": "python",
   "pygments_lexer": "ipython3",
   "version": "3.7.13"
  },
  "orig_nbformat": 4,
  "vscode": {
   "interpreter": {
    "hash": "9f08a002cfb74b2506f54e27c15b4b151c42a9fcd7b5ae0eaf4159402e8079c0"
   }
  }
 },
 "nbformat": 4,
 "nbformat_minor": 2
}
