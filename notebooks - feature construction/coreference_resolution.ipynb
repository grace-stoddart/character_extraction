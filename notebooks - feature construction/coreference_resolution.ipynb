{
 "cells": [
  {
   "cell_type": "code",
   "execution_count": 3,
   "metadata": {},
   "outputs": [],
   "source": [
    "### This notebook performs coreference resolution on raw texts. \n",
    "#   The input is the tokenized document\n",
    "#   The output is coreference chains, in a format ready to be used by the character/animacy detection models.\n",
    "\n",
    "\n",
    "### Note, use this Google Colab Notebook for more RAM: https://colab.research.google.com/drive/1DfyV-6mVtFi-eIVQlD6ds8VftXHqXk0J. \n",
    "#   Story 34 is too long. The Google Colab limit (before I need to write function to deal with long texts) is between 5630 - 6973 tokens."
   ]
  },
  {
   "cell_type": "code",
   "execution_count": null,
   "metadata": {},
   "outputs": [],
   "source": [
    "from allennlp.predictors.predictor import Predictor"
   ]
  },
  {
   "cell_type": "code",
   "execution_count": 1,
   "metadata": {},
   "outputs": [],
   "source": [
    "import sys\n",
    "sys.path.append('../src')\n",
    "\n",
    "from misc import open_dict, save_dict, get_file_names\n",
    "from coreference_resolution import get_coref_dict, get_canonical_character_name"
   ]
  },
  {
   "cell_type": "code",
   "execution_count": 16,
   "metadata": {},
   "outputs": [
    {
     "name": "stderr",
     "output_type": "stream",
     "text": [
      "Some weights of BertModel were not initialized from the model checkpoint at SpanBERT/spanbert-large-cased and are newly initialized: ['bert.pooler.dense.weight', 'bert.pooler.dense.bias']\n",
      "You should probably TRAIN this model on a down-stream task to be able to use it for predictions and inference.\n"
     ]
    }
   ],
   "source": [
    "predictorCR = Predictor.from_path(\"https://storage.googleapis.com/allennlp-public-models/coref-spanbert-large-2021.03.10.tar.gz\")"
   ]
  },
  {
   "cell_type": "markdown",
   "metadata": {},
   "source": [
    "#### Coref stuff"
   ]
  },
  {
   "cell_type": "code",
   "execution_count": null,
   "metadata": {},
   "outputs": [],
   "source": [
    "#### Iterate through ProppLearner Files\n",
    "\n",
    "processedFileLocation = \"data/ProppLearner/tokenized/\"\n",
    "corefFileLocation = \"data/ProppLearner/corefs_allen\"\n",
    "\n",
    "n = 46\n",
    "offset = 0\n",
    "\n",
    "for storyNum in range(1 + offset,(n+1 + offset)):\n",
    "\n",
    "    pFileName = \"story\"+str(storyNum)+\".p\"\n",
    "    document = open_dict(processedFileLocation + pFileName)\n",
    "\n",
    "    corefDict = get_coref_dict(document, predictorCR)\n",
    "\n",
    "    dictSavePath = corefFileLocation + pFileName\n",
    "    save_dict(corefDict, dictSavePath)\n",
    "    \n",
    "    print(\"Story\", str(storyNum), \"completed\")"
   ]
  },
  {
   "cell_type": "code",
   "execution_count": 1,
   "metadata": {},
   "outputs": [],
   "source": [
    "############## coreference resolution on LitBank"
   ]
  },
  {
   "cell_type": "code",
   "execution_count": 14,
   "metadata": {},
   "outputs": [],
   "source": [
    "tokensDir= \"../data/LitBank/tokenized_shortened/\"\n",
    "fileNames = get_file_names('/data/LitBank/tokenized_shortened/', '.p')\n"
   ]
  },
  {
   "cell_type": "code",
   "execution_count": 15,
   "metadata": {},
   "outputs": [
    {
     "name": "stdout",
     "output_type": "stream",
     "text": [
      "217_sons_and_lovers 1990\n",
      "77_the_house_of_the_seven_gables 2138\n",
      "541_the_age_of_innocence 2007\n",
      "1023_bleak_house 2268\n",
      "32_herland 2013\n",
      "4300_ulysses 2030\n",
      "45_anne_of_green_gables 2026\n",
      "120_treasure_island 2219\n",
      "345_dracula 2232\n",
      "543_main_street 2113\n",
      "2814_dubliners 2007\n",
      "1400_great_expectations 2029\n",
      "174_the_picture_of_dorian_gray 2015\n",
      "105_persuasion 2087\n",
      "2775_the_good_soldier 2317\n",
      "11_alices_adventures_in_wonderland 2149\n",
      "432_the_ambassadors 2278\n",
      "209_the_turn_of_the_screw 2034\n",
      "74_the_adventures_of_tom_sawyer 1970\n",
      "27_far_from_the_madding_crowd 2314\n",
      "768_wuthering_heights 2008\n",
      "113_the_secret_garden 2014\n",
      "215_the_call_of_the_wild 2009\n",
      "24_o_pioneers 2033\n",
      "158_emma 2050\n",
      "730_oliver_twist 2035\n",
      "33_the_scarlet_letter 2165\n",
      "1342_pride_and_prejudice 1959\n",
      "2489_moby_dick 2173\n",
      "514_little_women 2003\n",
      "2084_the_way_of_all_flesh 2043\n",
      "550_silas_marner 2044\n",
      "599_vanity_fair 2038\n",
      "145_middlemarch 1997\n",
      "766_david_copperfield 2027\n",
      "2891_howards_end 2013\n",
      "219_heart_of_darkness 2032\n",
      "155_the_moonstone 2035\n"
     ]
    }
   ],
   "source": [
    "for fileName in fileNames:\n",
    "    document = open_dict(tokensDir + fileName + '.p')\n",
    "    \n"
   ]
  },
  {
   "cell_type": "markdown",
   "metadata": {},
   "source": [
    "### Change canonical names for allen coref chains"
   ]
  },
  {
   "cell_type": "code",
   "execution_count": 2,
   "metadata": {},
   "outputs": [],
   "source": [
    "from settings import settings"
   ]
  },
  {
   "cell_type": "code",
   "execution_count": 4,
   "metadata": {},
   "outputs": [],
   "source": [
    "for settingName, setting in settings.items():\n",
    "\n",
    "    corefsDir = setting['corefDir']\n",
    "    fileNames = get_file_names(corefsDir, '.p')\n",
    "\n",
    "    for fileName in fileNames:\n",
    "        corefs = open_dict(corefsDir + fileName + '.p')\n",
    "\n",
    "        for i, chain in enumerate(corefs['clusters']):\n",
    "            mentions = chain['mentions']\n",
    "            canonName = get_canonical_character_name(mentions)\n",
    "\n",
    "            corefs['clusters'][i]['name'] = canonName\n",
    "\n",
    "        save_dict(corefs, corefsDir + fileName + '.p')\n",
    "\n",
    "\n"
   ]
  },
  {
   "cell_type": "code",
   "execution_count": null,
   "metadata": {},
   "outputs": [],
   "source": []
  }
 ],
 "metadata": {
  "kernelspec": {
   "display_name": "Python 3.7.13 ('character-allennlp-4')",
   "language": "python",
   "name": "python3"
  },
  "language_info": {
   "codemirror_mode": {
    "name": "ipython",
    "version": 3
   },
   "file_extension": ".py",
   "mimetype": "text/x-python",
   "name": "python",
   "nbconvert_exporter": "python",
   "pygments_lexer": "ipython3",
   "version": "3.7.13"
  },
  "orig_nbformat": 4,
  "vscode": {
   "interpreter": {
    "hash": "9f08a002cfb74b2506f54e27c15b4b151c42a9fcd7b5ae0eaf4159402e8079c0"
   }
  }
 },
 "nbformat": 4,
 "nbformat_minor": 2
}
